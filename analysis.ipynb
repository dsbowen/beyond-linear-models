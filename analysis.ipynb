{
 "cells": [
  {
   "cell_type": "markdown",
   "metadata": {},
   "source": [
    "Models:\n",
    "\n",
    "- Baseline\n",
    "- Regression on one-hot encoded 3-item CRT\n",
    "- ML\n",
    "\n",
    "Metrics:\n",
    "\n",
    "- ROC AUC\n",
    "- Precision-Recall AUC\n",
    "- Balanced accuracy\n",
    "\n",
    "Sections:\n",
    "\n",
    "- Summary stats\n",
    "- ML beats linear model\n",
    "    - x-val\n",
    "    - training\n",
    "    - bootstrapped x-val\n",
    "- Correlation explanation\n",
    "- Intergroup difference\n",
    "- Feature importance"
   ]
  },
  {
   "cell_type": "code",
   "execution_count": 1,
   "metadata": {
    "ExecuteTime": {
     "end_time": "2020-09-01T00:38:39.734455Z",
     "start_time": "2020-09-01T00:38:36.373145Z"
    }
   },
   "outputs": [],
   "source": [
    "import warnings\n",
    "warnings.simplefilter('ignore')\n",
    "\n",
    "import gshap\n",
    "import pandas as pd\n",
    "import matplotlib.pyplot as plt\n",
    "import numpy as np\n",
    "import seaborn as sns\n",
    "from sklearn.cluster import FeatureAgglomeration\n",
    "from sklearn.ensemble import ExtraTreesClassifier\n",
    "from sklearn.linear_model import LogisticRegression as LogisticRegressionBase, SGDClassifier\n",
    "from sklearn.metrics import accuracy_score, f1_score, roc_auc_score, roc_curve\n",
    "from sklearn.model_selection import KFold\n",
    "from sklearn.neural_network import MLPClassifier\n",
    "from sklearn.pipeline import make_pipeline, make_union\n",
    "from sklearn.utils import resample\n",
    "from tpot.builtins import StackingEstimator\n",
    "\n",
    "import os\n",
    "import random\n",
    "from copy import copy\n",
    "from datetime import datetime\n",
    "from functools import partial\n",
    "\n",
    "random.seed(0)\n",
    "np.random.seed(0)\n",
    "\n",
    "sns.set(color_codes=True)\n",
    "\n",
    "PLOTS_DIR = 'plots'"
   ]
  },
  {
   "cell_type": "markdown",
   "metadata": {},
   "source": [
    "## Summary statistics"
   ]
  },
  {
   "cell_type": "code",
   "execution_count": 2,
   "metadata": {
    "ExecuteTime": {
     "end_time": "2020-09-01T00:38:39.824042Z",
     "start_time": "2020-09-01T00:38:39.737037Z"
    }
   },
   "outputs": [
    {
     "data": {
      "text/html": [
       "<div>\n",
       "<style scoped>\n",
       "    .dataframe tbody tr th:only-of-type {\n",
       "        vertical-align: middle;\n",
       "    }\n",
       "\n",
       "    .dataframe tbody tr th {\n",
       "        vertical-align: top;\n",
       "    }\n",
       "\n",
       "    .dataframe thead th {\n",
       "        text-align: right;\n",
       "    }\n",
       "</style>\n",
       "<table border=\"1\" class=\"dataframe\">\n",
       "  <thead>\n",
       "    <tr style=\"text-align: right;\">\n",
       "      <th></th>\n",
       "      <th>ACT</th>\n",
       "      <th>batball</th>\n",
       "      <th>3flips</th>\n",
       "      <th>widgets</th>\n",
       "      <th>trucks</th>\n",
       "      <th>lilypads</th>\n",
       "      <th>water</th>\n",
       "      <th>giftwrap</th>\n",
       "      <th>Jerry</th>\n",
       "      <th>IQ</th>\n",
       "      <th>...</th>\n",
       "      <th>school_UM (dearborn)</th>\n",
       "      <th>Sex_Male</th>\n",
       "      <th>RACE_Asian</th>\n",
       "      <th>RACE_Black</th>\n",
       "      <th>RACE_Latino</th>\n",
       "      <th>RACE_Other</th>\n",
       "      <th>RACE_White</th>\n",
       "      <th>Prestige_low</th>\n",
       "      <th>Prestige_middle</th>\n",
       "      <th>CRT</th>\n",
       "    </tr>\n",
       "  </thead>\n",
       "  <tbody>\n",
       "    <tr>\n",
       "      <th>0</th>\n",
       "      <td>26.0</td>\n",
       "      <td>0</td>\n",
       "      <td>0.0</td>\n",
       "      <td>0.0</td>\n",
       "      <td>0.0</td>\n",
       "      <td>0.0</td>\n",
       "      <td>0.0</td>\n",
       "      <td>1.0</td>\n",
       "      <td>0.0</td>\n",
       "      <td>1.0</td>\n",
       "      <td>...</td>\n",
       "      <td>1</td>\n",
       "      <td>0</td>\n",
       "      <td>0</td>\n",
       "      <td>0</td>\n",
       "      <td>0</td>\n",
       "      <td>0</td>\n",
       "      <td>1</td>\n",
       "      <td>1</td>\n",
       "      <td>0</td>\n",
       "      <td>0.0</td>\n",
       "    </tr>\n",
       "    <tr>\n",
       "      <th>1</th>\n",
       "      <td>23.0</td>\n",
       "      <td>1</td>\n",
       "      <td>0.0</td>\n",
       "      <td>0.0</td>\n",
       "      <td>0.0</td>\n",
       "      <td>1.0</td>\n",
       "      <td>0.0</td>\n",
       "      <td>1.0</td>\n",
       "      <td>1.0</td>\n",
       "      <td>4.0</td>\n",
       "      <td>...</td>\n",
       "      <td>1</td>\n",
       "      <td>0</td>\n",
       "      <td>0</td>\n",
       "      <td>1</td>\n",
       "      <td>0</td>\n",
       "      <td>0</td>\n",
       "      <td>0</td>\n",
       "      <td>1</td>\n",
       "      <td>0</td>\n",
       "      <td>2.0</td>\n",
       "    </tr>\n",
       "    <tr>\n",
       "      <th>2</th>\n",
       "      <td>27.0</td>\n",
       "      <td>0</td>\n",
       "      <td>0.0</td>\n",
       "      <td>0.0</td>\n",
       "      <td>1.0</td>\n",
       "      <td>1.0</td>\n",
       "      <td>1.0</td>\n",
       "      <td>1.0</td>\n",
       "      <td>0.0</td>\n",
       "      <td>4.0</td>\n",
       "      <td>...</td>\n",
       "      <td>1</td>\n",
       "      <td>1</td>\n",
       "      <td>0</td>\n",
       "      <td>0</td>\n",
       "      <td>0</td>\n",
       "      <td>0</td>\n",
       "      <td>1</td>\n",
       "      <td>1</td>\n",
       "      <td>0</td>\n",
       "      <td>1.0</td>\n",
       "    </tr>\n",
       "    <tr>\n",
       "      <th>3</th>\n",
       "      <td>22.0</td>\n",
       "      <td>0</td>\n",
       "      <td>0.0</td>\n",
       "      <td>0.0</td>\n",
       "      <td>0.0</td>\n",
       "      <td>0.0</td>\n",
       "      <td>0.0</td>\n",
       "      <td>0.0</td>\n",
       "      <td>0.0</td>\n",
       "      <td>0.0</td>\n",
       "      <td>...</td>\n",
       "      <td>1</td>\n",
       "      <td>1</td>\n",
       "      <td>0</td>\n",
       "      <td>1</td>\n",
       "      <td>0</td>\n",
       "      <td>0</td>\n",
       "      <td>0</td>\n",
       "      <td>1</td>\n",
       "      <td>0</td>\n",
       "      <td>0.0</td>\n",
       "    </tr>\n",
       "    <tr>\n",
       "      <th>4</th>\n",
       "      <td>31.0</td>\n",
       "      <td>1</td>\n",
       "      <td>1.0</td>\n",
       "      <td>1.0</td>\n",
       "      <td>1.0</td>\n",
       "      <td>1.0</td>\n",
       "      <td>1.0</td>\n",
       "      <td>1.0</td>\n",
       "      <td>1.0</td>\n",
       "      <td>8.0</td>\n",
       "      <td>...</td>\n",
       "      <td>1</td>\n",
       "      <td>1</td>\n",
       "      <td>0</td>\n",
       "      <td>0</td>\n",
       "      <td>0</td>\n",
       "      <td>1</td>\n",
       "      <td>0</td>\n",
       "      <td>1</td>\n",
       "      <td>0</td>\n",
       "      <td>3.0</td>\n",
       "    </tr>\n",
       "  </tbody>\n",
       "</table>\n",
       "<p>5 rows × 25 columns</p>\n",
       "</div>"
      ],
      "text/plain": [
       "    ACT  batball  3flips  widgets  trucks  lilypads  water  giftwrap  Jerry  \\\n",
       "0  26.0        0     0.0      0.0     0.0       0.0    0.0       1.0    0.0   \n",
       "1  23.0        1     0.0      0.0     0.0       1.0    0.0       1.0    1.0   \n",
       "2  27.0        0     0.0      0.0     1.0       1.0    1.0       1.0    0.0   \n",
       "3  22.0        0     0.0      0.0     0.0       0.0    0.0       0.0    0.0   \n",
       "4  31.0        1     1.0      1.0     1.0       1.0    1.0       1.0    1.0   \n",
       "\n",
       "    IQ  ...  school_UM (dearborn)  Sex_Male  RACE_Asian  RACE_Black  \\\n",
       "0  1.0  ...                     1         0           0           0   \n",
       "1  4.0  ...                     1         0           0           1   \n",
       "2  4.0  ...                     1         1           0           0   \n",
       "3  0.0  ...                     1         1           0           1   \n",
       "4  8.0  ...                     1         1           0           0   \n",
       "\n",
       "   RACE_Latino  RACE_Other  RACE_White  Prestige_low  Prestige_middle  CRT  \n",
       "0            0           0           1             1                0  0.0  \n",
       "1            0           0           0             1                0  2.0  \n",
       "2            0           0           1             1                0  1.0  \n",
       "3            0           0           0             1                0  0.0  \n",
       "4            0           1           0             1                0  3.0  \n",
       "\n",
       "[5 rows x 25 columns]"
      ]
     },
     "execution_count": 2,
     "metadata": {},
     "output_type": "execute_result"
    }
   ],
   "source": [
    "df = pd.read_csv('CRT_clean.csv')\n",
    "df.head()"
   ]
  },
  {
   "cell_type": "code",
   "execution_count": 3,
   "metadata": {
    "ExecuteTime": {
     "end_time": "2020-09-01T00:38:39.833753Z",
     "start_time": "2020-09-01T00:38:39.826821Z"
    }
   },
   "outputs": [
    {
     "name": "stdout",
     "output_type": "stream",
     "text": [
      "Numer of observations: 529\n",
      "Number of features: 24\n"
     ]
    }
   ],
   "source": [
    "n, p = df.shape\n",
    "print('Numer of observations: {}'.format(n))\n",
    "print('Number of features: {}'.format(p-1)) # 1 column is the label, so # features = p-1"
   ]
  },
  {
   "cell_type": "code",
   "execution_count": 4,
   "metadata": {
    "ExecuteTime": {
     "end_time": "2020-09-01T00:38:39.917469Z",
     "start_time": "2020-09-01T00:38:39.840169Z"
    }
   },
   "outputs": [
    {
     "data": {
      "text/html": [
       "<div>\n",
       "<style scoped>\n",
       "    .dataframe tbody tr th:only-of-type {\n",
       "        vertical-align: middle;\n",
       "    }\n",
       "\n",
       "    .dataframe tbody tr th {\n",
       "        vertical-align: top;\n",
       "    }\n",
       "\n",
       "    .dataframe thead th {\n",
       "        text-align: right;\n",
       "    }\n",
       "</style>\n",
       "<table border=\"1\" class=\"dataframe\">\n",
       "  <thead>\n",
       "    <tr style=\"text-align: right;\">\n",
       "      <th></th>\n",
       "      <th>CRT</th>\n",
       "      <th>ACT</th>\n",
       "      <th>IQ</th>\n",
       "      <th>Sex_Male</th>\n",
       "      <th>3.4K v 3.8K(2)</th>\n",
       "    </tr>\n",
       "  </thead>\n",
       "  <tbody>\n",
       "    <tr>\n",
       "      <th>count</th>\n",
       "      <td>529.000000</td>\n",
       "      <td>529.000000</td>\n",
       "      <td>529.000000</td>\n",
       "      <td>529.000000</td>\n",
       "      <td>529.000000</td>\n",
       "    </tr>\n",
       "    <tr>\n",
       "      <th>mean</th>\n",
       "      <td>0.903592</td>\n",
       "      <td>26.338374</td>\n",
       "      <td>2.510397</td>\n",
       "      <td>0.504726</td>\n",
       "      <td>0.489603</td>\n",
       "    </tr>\n",
       "    <tr>\n",
       "      <th>std</th>\n",
       "      <td>0.973205</td>\n",
       "      <td>3.978739</td>\n",
       "      <td>2.134756</td>\n",
       "      <td>0.500451</td>\n",
       "      <td>0.500365</td>\n",
       "    </tr>\n",
       "    <tr>\n",
       "      <th>min</th>\n",
       "      <td>0.000000</td>\n",
       "      <td>15.000000</td>\n",
       "      <td>0.000000</td>\n",
       "      <td>0.000000</td>\n",
       "      <td>0.000000</td>\n",
       "    </tr>\n",
       "    <tr>\n",
       "      <th>25%</th>\n",
       "      <td>0.000000</td>\n",
       "      <td>24.000000</td>\n",
       "      <td>1.000000</td>\n",
       "      <td>0.000000</td>\n",
       "      <td>0.000000</td>\n",
       "    </tr>\n",
       "    <tr>\n",
       "      <th>50%</th>\n",
       "      <td>1.000000</td>\n",
       "      <td>27.000000</td>\n",
       "      <td>2.000000</td>\n",
       "      <td>1.000000</td>\n",
       "      <td>0.000000</td>\n",
       "    </tr>\n",
       "    <tr>\n",
       "      <th>75%</th>\n",
       "      <td>2.000000</td>\n",
       "      <td>29.000000</td>\n",
       "      <td>4.000000</td>\n",
       "      <td>1.000000</td>\n",
       "      <td>1.000000</td>\n",
       "    </tr>\n",
       "    <tr>\n",
       "      <th>max</th>\n",
       "      <td>3.000000</td>\n",
       "      <td>36.000000</td>\n",
       "      <td>8.000000</td>\n",
       "      <td>1.000000</td>\n",
       "      <td>1.000000</td>\n",
       "    </tr>\n",
       "  </tbody>\n",
       "</table>\n",
       "</div>"
      ],
      "text/plain": [
       "              CRT         ACT          IQ    Sex_Male  3.4K v 3.8K(2)\n",
       "count  529.000000  529.000000  529.000000  529.000000      529.000000\n",
       "mean     0.903592   26.338374    2.510397    0.504726        0.489603\n",
       "std      0.973205    3.978739    2.134756    0.500451        0.500365\n",
       "min      0.000000   15.000000    0.000000    0.000000        0.000000\n",
       "25%      0.000000   24.000000    1.000000    0.000000        0.000000\n",
       "50%      1.000000   27.000000    2.000000    1.000000        0.000000\n",
       "75%      2.000000   29.000000    4.000000    1.000000        1.000000\n",
       "max      3.000000   36.000000    8.000000    1.000000        1.000000"
      ]
     },
     "execution_count": 4,
     "metadata": {},
     "output_type": "execute_result"
    }
   ],
   "source": [
    "df[['CRT', 'ACT', 'IQ', 'Sex_Male', '3.4K v 3.8K(2)']].describe()"
   ]
  },
  {
   "cell_type": "code",
   "execution_count": 5,
   "metadata": {
    "ExecuteTime": {
     "end_time": "2020-09-01T00:38:39.951824Z",
     "start_time": "2020-09-01T00:38:39.928853Z"
    }
   },
   "outputs": [
    {
     "data": {
      "text/html": [
       "<div>\n",
       "<style scoped>\n",
       "    .dataframe tbody tr th:only-of-type {\n",
       "        vertical-align: middle;\n",
       "    }\n",
       "\n",
       "    .dataframe tbody tr th {\n",
       "        vertical-align: top;\n",
       "    }\n",
       "\n",
       "    .dataframe thead th {\n",
       "        text-align: right;\n",
       "    }\n",
       "</style>\n",
       "<table border=\"1\" class=\"dataframe\">\n",
       "  <thead>\n",
       "    <tr style=\"text-align: right;\">\n",
       "      <th></th>\n",
       "      <th>CRT</th>\n",
       "      <th>ACT</th>\n",
       "      <th>IQ</th>\n",
       "      <th>Sex_Male</th>\n",
       "      <th>3.4K v 3.8K(2)</th>\n",
       "    </tr>\n",
       "  </thead>\n",
       "  <tbody>\n",
       "    <tr>\n",
       "      <th>CRT</th>\n",
       "      <td>1.000000</td>\n",
       "      <td>0.477019</td>\n",
       "      <td>0.845099</td>\n",
       "      <td>0.201203</td>\n",
       "      <td>0.233242</td>\n",
       "    </tr>\n",
       "    <tr>\n",
       "      <th>ACT</th>\n",
       "      <td>0.477019</td>\n",
       "      <td>1.000000</td>\n",
       "      <td>0.528836</td>\n",
       "      <td>0.083374</td>\n",
       "      <td>0.190611</td>\n",
       "    </tr>\n",
       "    <tr>\n",
       "      <th>IQ</th>\n",
       "      <td>0.845099</td>\n",
       "      <td>0.528836</td>\n",
       "      <td>1.000000</td>\n",
       "      <td>0.268974</td>\n",
       "      <td>0.260302</td>\n",
       "    </tr>\n",
       "    <tr>\n",
       "      <th>Sex_Male</th>\n",
       "      <td>0.201203</td>\n",
       "      <td>0.083374</td>\n",
       "      <td>0.268974</td>\n",
       "      <td>1.000000</td>\n",
       "      <td>0.062595</td>\n",
       "    </tr>\n",
       "    <tr>\n",
       "      <th>3.4K v 3.8K(2)</th>\n",
       "      <td>0.233242</td>\n",
       "      <td>0.190611</td>\n",
       "      <td>0.260302</td>\n",
       "      <td>0.062595</td>\n",
       "      <td>1.000000</td>\n",
       "    </tr>\n",
       "  </tbody>\n",
       "</table>\n",
       "</div>"
      ],
      "text/plain": [
       "                     CRT       ACT        IQ  Sex_Male  3.4K v 3.8K(2)\n",
       "CRT             1.000000  0.477019  0.845099  0.201203        0.233242\n",
       "ACT             0.477019  1.000000  0.528836  0.083374        0.190611\n",
       "IQ              0.845099  0.528836  1.000000  0.268974        0.260302\n",
       "Sex_Male        0.201203  0.083374  0.268974  1.000000        0.062595\n",
       "3.4K v 3.8K(2)  0.233242  0.190611  0.260302  0.062595        1.000000"
      ]
     },
     "execution_count": 5,
     "metadata": {},
     "output_type": "execute_result"
    }
   ],
   "source": [
    "df[['CRT', 'ACT', 'IQ', 'Sex_Male', '3.4K v 3.8K(2)']].corr()"
   ]
  },
  {
   "cell_type": "markdown",
   "metadata": {},
   "source": [
    "## Model performance and comparison"
   ]
  },
  {
   "cell_type": "code",
   "execution_count": 6,
   "metadata": {
    "ExecuteTime": {
     "end_time": "2020-09-01T00:38:39.990394Z",
     "start_time": "2020-09-01T00:38:39.966768Z"
    }
   },
   "outputs": [],
   "source": [
    "y_var = '3.4K v 3.8K(2)'\n",
    "X = df.drop(columns=y_var).to_numpy()\n",
    "y = df[y_var].to_numpy()"
   ]
  },
  {
   "cell_type": "code",
   "execution_count": 7,
   "metadata": {
    "ExecuteTime": {
     "end_time": "2020-09-01T00:38:40.006460Z",
     "start_time": "2020-09-01T00:38:39.992872Z"
    }
   },
   "outputs": [],
   "source": [
    "class Baseline():\n",
    "    def __init__(self, output=None):\n",
    "        self.output = output\n",
    "    \n",
    "    def fit(self, X, y):\n",
    "        self.output = y.mean()\n",
    "        return self\n",
    "        \n",
    "    def predict(self, X):\n",
    "        return round(self.output) * np.ones(shape=X.shape[0])\n",
    "    \n",
    "    def predict_proba(self, X):\n",
    "        return np.ones(shape=(X.shape[0], 1)) @ np.array([[1-self.output, self.output]])\n",
    "    \n",
    "    def get_params(self, *args, **kwargs):\n",
    "        return {'output': self.output}\n",
    "    \n",
    "base_clf = Baseline()"
   ]
  },
  {
   "cell_type": "code",
   "execution_count": 8,
   "metadata": {
    "ExecuteTime": {
     "end_time": "2020-09-01T00:38:40.023925Z",
     "start_time": "2020-09-01T00:38:40.013016Z"
    }
   },
   "outputs": [],
   "source": [
    "crt_col_idx = list(df.drop(columns=y_var).columns).index('CRT')\n",
    "\n",
    "class LogisticRegression(LogisticRegressionBase):\n",
    "    def fit(self, X, y):\n",
    "        return super().fit(self._get_X(X), y)\n",
    "        \n",
    "    def predict(self, X):\n",
    "        return super().predict(self._get_X(X))\n",
    "        \n",
    "    def predict_proba(self, X):\n",
    "        return super().predict_proba(self._get_X(X))\n",
    "    \n",
    "    def _get_X(self, X):\n",
    "        return X[:, crt_col_idx].reshape((-1, 1))\n",
    "    \n",
    "linear_clf = LogisticRegression()"
   ]
  },
  {
   "cell_type": "code",
   "execution_count": 9,
   "metadata": {
    "ExecuteTime": {
     "end_time": "2020-09-01T00:38:40.042671Z",
     "start_time": "2020-09-01T00:38:40.029094Z"
    }
   },
   "outputs": [],
   "source": [
    "ml_clf = make_pipeline(\n",
    "    FeatureAgglomeration(affinity=\"euclidean\", linkage=\"ward\"),\n",
    "    StackingEstimator(\n",
    "        estimator=SGDClassifier(\n",
    "            alpha=0.0, \n",
    "            eta0=0.1, \n",
    "            fit_intercept=False, \n",
    "            l1_ratio=0.5, \n",
    "            learning_rate=\"constant\", \n",
    "            loss=\"perceptron\", \n",
    "            penalty=\"elasticnet\", \n",
    "            power_t=0.5\n",
    "        )\n",
    "    ),\n",
    "    StackingEstimator(\n",
    "        estimator=MLPClassifier(alpha=0.001, learning_rate_init=1.0)\n",
    "    ),\n",
    "    ExtraTreesClassifier(\n",
    "        bootstrap=False, \n",
    "        criterion=\"entropy\", \n",
    "        max_features=0.3, \n",
    "        min_samples_leaf=7, \n",
    "        min_samples_split=13, \n",
    "        n_estimators=100\n",
    "    )\n",
    ")"
   ]
  },
  {
   "cell_type": "markdown",
   "metadata": {},
   "source": [
    "### Cross validation and training performance"
   ]
  },
  {
   "cell_type": "code",
   "execution_count": 10,
   "metadata": {
    "ExecuteTime": {
     "end_time": "2020-09-01T00:38:41.584832Z",
     "start_time": "2020-09-01T00:38:40.046481Z"
    }
   },
   "outputs": [],
   "source": [
    "CLASSIFIERS = [('base', base_clf), ('linear', linear_clf), ('ml', ml_clf)]\n",
    "COMPARISONS = [('linear', 'base'), ('ml', 'base'), ('ml', 'linear')]\n",
    "METRICS = ['accuracy', 'AUC', 'F1']\n",
    "\n",
    "kf = KFold()\n",
    "\n",
    "def get_xval_scores(X=X, y=y):\n",
    "    xval_scores = {key: [] for key, _ in CLASSIFIERS}\n",
    "    for i, (train_idx, test_idx) in enumerate(kf.split(X, y)):\n",
    "        X_train, X_test, y_train, y_test = \\\n",
    "            X[train_idx], X[test_idx], y[train_idx], y[test_idx]\n",
    "        for key, clf in CLASSIFIERS:\n",
    "            metrics = compute_metrics(clf.fit(X_train, y_train), X_test, y_test)\n",
    "            xval_scores[key].append(metrics)\n",
    "    return average_xval_scores(xval_scores)\n",
    "\n",
    "def compute_metrics(clf, X, y):\n",
    "    output = clf.predict_proba(X)[:,1] # probability positive class\n",
    "    y_pred = output > .5\n",
    "    return {\n",
    "        'accuracy': accuracy_score(y, y_pred),\n",
    "        'AUC': roc_auc_score(y, output),\n",
    "        'F1': f1_score(y, y_pred, average='binary')\n",
    "    }\n",
    "\n",
    "def average_xval_scores(xval_scores):\n",
    "    def average_metric_score(clf_key, metric):\n",
    "        scores = [record[metric] for record in xval_scores[clf_key]]\n",
    "        return sum(scores) / len(scores)\n",
    "        \n",
    "    return {\n",
    "        key: {\n",
    "            metric: average_metric_score(key, metric) \n",
    "            for metric in METRICS\n",
    "        }\n",
    "        for key, _ in CLASSIFIERS\n",
    "    }\n",
    "\n",
    "xval_scores = get_xval_scores()"
   ]
  },
  {
   "cell_type": "code",
   "execution_count": 11,
   "metadata": {
    "ExecuteTime": {
     "end_time": "2020-09-01T00:38:42.430277Z",
     "start_time": "2020-09-01T00:38:41.587059Z"
    }
   },
   "outputs": [
    {
     "name": "stdout",
     "output_type": "stream",
     "text": [
      "Classifier: base\n",
      "\tMetric: accuracy\n",
      "\t\t Cross validation score: 0.4803\n",
      "\t\t Training score: 0.5104\n",
      "\tMetric: AUC\n",
      "\t\t Cross validation score: 0.5000\n",
      "\t\t Training score: 0.5000\n",
      "\tMetric: F1\n",
      "\t\t Cross validation score: 0.1192\n",
      "\t\t Training score: 0.0000\n",
      "Classifier: linear\n",
      "\tMetric: accuracy\n",
      "\t\t Cross validation score: 0.5935\n",
      "\t\t Training score: 0.5955\n",
      "\tMetric: AUC\n",
      "\t\t Cross validation score: 0.6280\n",
      "\t\t Training score: 0.6255\n",
      "\tMetric: F1\n",
      "\t\t Cross validation score: 0.5577\n",
      "\t\t Training score: 0.6137\n",
      "Classifier: ml\n",
      "\tMetric: accuracy\n",
      "\t\t Cross validation score: 0.6162\n",
      "\t\t Training score: 0.6295\n",
      "\tMetric: AUC\n",
      "\t\t Cross validation score: 0.6518\n",
      "\t\t Training score: 0.7176\n",
      "\tMetric: F1\n",
      "\t\t Cross validation score: 0.5763\n",
      "\t\t Training score: 0.5702\n"
     ]
    }
   ],
   "source": [
    "train_scores = {\n",
    "    key: compute_metrics(clf.fit(X, y), X, y)\n",
    "    for key, clf in CLASSIFIERS\n",
    "}\n",
    "\n",
    "for key, _ in CLASSIFIERS:\n",
    "    print('Classifier: {}'.format(key))\n",
    "    for metric in METRICS:\n",
    "        print('\\tMetric: {}'.format(metric))\n",
    "        print('\\t'*2, 'Cross validation score: {:.4f}'.format(xval_scores[key][metric]))\n",
    "        print('\\t'*2, 'Training score: {:.4f}'.format(train_scores[key][metric]))"
   ]
  },
  {
   "cell_type": "markdown",
   "metadata": {},
   "source": [
    "### ROC curve on training data"
   ]
  },
  {
   "cell_type": "code",
   "execution_count": 12,
   "metadata": {
    "ExecuteTime": {
     "end_time": "2020-09-01T00:38:49.446317Z",
     "start_time": "2020-09-01T00:38:42.485318Z"
    }
   },
   "outputs": [
    {
     "data": {
      "image/png": "[encoded data removed]",
      "text/plain": [
       "<Figure size 432x288 with 1 Axes>"
      ]
     },
     "metadata": {},
     "output_type": "display_data"
    }
   ],
   "source": [
    "for key, clf in CLASSIFIERS:\n",
    "    fpr, tpr, _ = roc_curve(y, clf.predict_proba(X)[:,1])\n",
    "    sns.lineplot(fpr, tpr, label=key)\n",
    "plt.xlabel('False positive rate')\n",
    "plt.ylabel('True positive rate')\n",
    "if PLOTS_DIR is not None:\n",
    "    plt.savefig(os.path.join(PLOTS_DIR, 'CRT_ROC.png'), bbox_inches='tight')"
   ]
  },
  {
   "cell_type": "markdown",
   "metadata": {},
   "source": [
    "### Bootstrapped percent improvement"
   ]
  },
  {
   "cell_type": "code",
   "execution_count": 13,
   "metadata": {
    "ExecuteTime": {
     "end_time": "2020-09-01T01:15:12.000778Z",
     "start_time": "2020-09-01T00:38:49.452323Z"
    }
   },
   "outputs": [
    {
     "name": "stdout",
     "output_type": "stream",
     "text": [
      "\n",
      "0% complete\n",
      "Time remaining: 1:13:16.475124\n",
      "\n",
      "10% complete\n",
      "Time remaining: 1:08:04.210895\n",
      "\n",
      "20% complete\n",
      "Time remaining: 0:57:46.075583\n",
      "\n",
      "30% complete\n",
      "Time remaining: 0:49:01.523092\n",
      "\n",
      "40% complete\n",
      "Time remaining: 0:35:49.792238\n",
      "\n",
      "50% complete\n",
      "Time remaining: 0:26:23.662050\n",
      "\n",
      "60% complete\n",
      "Time remaining: 0:18:53.936332\n",
      "\n",
      "70% complete\n",
      "Time remaining: 0:12:59.106120\n",
      "\n",
      "80% complete\n",
      "Time remaining: 0:08:03.167380\n",
      "\n",
      "90% complete\n",
      "Time remaining: 0:03:46.853066\n",
      "\n",
      "Comparison: ('linear', 'base')\n",
      "\t Metric: accuracy\n",
      "\t\t Average percent improvement: 0.1908\n",
      "\t\t p=0.001\n",
      "\t\t 95% CI: 0.0754 0.3418\n",
      "\t Metric: AUC\n",
      "\t\t Average percent improvement: 0.2523\n",
      "\t\t p=0.000\n",
      "\t\t 95% CI: 0.1632 0.3405\n",
      "\t Metric: F1\n",
      "\t\t Average percent improvement: 1.2590\n",
      "\t\t p=0.128\n",
      "\t\t 95% CI: -0.1042 inf\n",
      "\n",
      "Comparison: ('ml', 'base')\n",
      "\t Metric: accuracy\n",
      "\t\t Average percent improvement: 0.2912\n",
      "\t\t p=0.000\n",
      "\t\t 95% CI: 0.1451 0.4700\n",
      "\t Metric: AUC\n",
      "\t\t Average percent improvement: 0.4196\n",
      "\t\t p=0.000\n",
      "\t\t 95% CI: 0.3313 0.5046\n",
      "\t Metric: F1\n",
      "\t\t Average percent improvement: 1.4738\n",
      "\t\t p=0.107\n",
      "\t\t 95% CI: -0.0543 inf\n",
      "\n",
      "Comparison: ('ml', 'linear')\n",
      "\t Metric: accuracy\n",
      "\t\t Average percent improvement: 0.0847\n",
      "\t\t p=0.023\n",
      "\t\t 95% CI: 0.0029 0.1720\n",
      "\t Metric: AUC\n",
      "\t\t Average percent improvement: 0.1344\n",
      "\t\t p=0.000\n",
      "\t\t 95% CI: 0.0664 0.2123\n",
      "\t Metric: F1\n",
      "\t\t Average percent improvement: 0.1288\n",
      "\t\t p=0.078\n",
      "\t\t 95% CI: -0.0288 0.3659\n"
     ]
    }
   ],
   "source": [
    "BOOTSTRAP_SAMPLES = 1000\n",
    "start_time = datetime.now()\n",
    "\n",
    "def compute_improvement():\n",
    "    scores = get_xval_scores(*resample(X, y))\n",
    "    return {\n",
    "        comp: {\n",
    "            metric: scores[comp[0]][metric]/scores[comp[1]][metric] - 1\n",
    "            for metric in METRICS\n",
    "        }\n",
    "        for comp in COMPARISONS\n",
    "    }\n",
    "\n",
    "def print_improvement(improvement):\n",
    "    for comp in COMPARISONS:\n",
    "        print('\\nComparison: {}'.format(comp))\n",
    "        for metric in METRICS:\n",
    "            a = np.array(improvement[comp][metric])\n",
    "            print('\\t'*1, 'Metric: {}'.format(metric))\n",
    "            print('\\t'*2, 'Average percent improvement: {:.4f}'.format(a[a < np.inf].mean()))\n",
    "            print('\\t'*2, 'p={:.3f}'.format((a<=0).mean()))\n",
    "            print('\\t'*2, '95% CI: {:.4f} {:.4f}'.format(np.quantile(a, .025), np.quantile(a, .975)))\n",
    "\n",
    "improvement = {\n",
    "    comp: {metric: [] for metric in METRICS}\n",
    "    for comp in COMPARISONS\n",
    "}\n",
    "for i in range(BOOTSTRAP_SAMPLES):\n",
    "    sample_improvement = compute_improvement()\n",
    "    [\n",
    "        improvement[comp][metric].append(\n",
    "            sample_improvement[comp][metric]\n",
    "        )\n",
    "        for comp in COMPARISONS for metric in METRICS\n",
    "    ]\n",
    "    if i % 100 == 0:\n",
    "        print('\\n{:.0f}% complete'.format(100*(i+1)/BOOTSTRAP_SAMPLES))\n",
    "        run_time = datetime.now() - start_time\n",
    "        remaining_time = run_time / ((i+1)/BOOTSTRAP_SAMPLES) - run_time\n",
    "        print('Time remaining: {}'.format(str(remaining_time)))\n",
    "        # print_improvement(improvement)\n",
    "\n",
    "print_improvement(improvement)"
   ]
  },
  {
   "cell_type": "code",
   "execution_count": 14,
   "metadata": {
    "ExecuteTime": {
     "end_time": "2020-09-01T01:15:15.560575Z",
     "start_time": "2020-09-01T01:15:12.004209Z"
    }
   },
   "outputs": [
    {
     "data": {
      "image/png": "[encoded data removed]",
      "text/plain": [
       "<Figure size 648x648 with 9 Axes>"
      ]
     },
     "metadata": {},
     "output_type": "display_data"
    }
   ],
   "source": [
    "data = {'Sample': [], 'Comparison': [], 'Metric': [], 'PctImprovement': []}\n",
    "for comp in COMPARISONS:\n",
    "    for metric in METRICS:\n",
    "        for i, pct_improve in enumerate(improvement[comp][metric]):\n",
    "            data['Sample'].append(i)\n",
    "            data['Comparison'].append(comp)\n",
    "            data['Metric'].append(metric)\n",
    "            data['PctImprovement'].append(pct_improve)\n",
    "            \n",
    "improvement_df = pd.DataFrame(data)\n",
    "improvement_df.replace([np.inf, -np.inf], np.nan, inplace=True)\n",
    "improvement_df.dropna(inplace=True)\n",
    "g = sns.FacetGrid(improvement_df, row='Comparison', col='Metric', margin_titles=True, sharey=False, sharex='col')\n",
    "g.map(sns.distplot, 'PctImprovement').set_xlabels('Percent improvement')\n",
    "if PLOTS_DIR is not None:\n",
    "    plt.savefig(os.path.join(PLOTS_DIR, 'CRT_comparison.png'), bbox_inches='tight')"
   ]
  },
  {
   "cell_type": "code",
   "execution_count": 15,
   "metadata": {
    "ExecuteTime": {
     "end_time": "2020-09-01T01:15:15.821765Z",
     "start_time": "2020-09-01T01:15:15.562345Z"
    }
   },
   "outputs": [
    {
     "data": {
      "text/plain": [
       "Pipeline(memory=None,\n",
       "         steps=[('featureagglomeration',\n",
       "                 FeatureAgglomeration(affinity='euclidean',\n",
       "                                      compute_full_tree='auto',\n",
       "                                      connectivity=None,\n",
       "                                      distance_threshold=None, linkage='ward',\n",
       "                                      memory=None, n_clusters=2,\n",
       "                                      pooling_func=<function mean at 0x7f9d8407d840>)),\n",
       "                ('stackingestimator-1',\n",
       "                 StackingEstimator(estimator=SGDClassifier(alpha=0.0,\n",
       "                                                           average=False,\n",
       "                                                           class_weight=N...\n",
       "                 ExtraTreesClassifier(bootstrap=False, ccp_alpha=0.0,\n",
       "                                      class_weight=None, criterion='entropy',\n",
       "                                      max_depth=None, max_features=0.3,\n",
       "                                      max_leaf_nodes=None, max_samples=None,\n",
       "                                      min_impurity_decrease=0.0,\n",
       "                                      min_impurity_split=None,\n",
       "                                      min_samples_leaf=7, min_samples_split=13,\n",
       "                                      min_weight_fraction_leaf=0.0,\n",
       "                                      n_estimators=100, n_jobs=None,\n",
       "                                      oob_score=False, random_state=None,\n",
       "                                      verbose=0, warm_start=False))],\n",
       "         verbose=False)"
      ]
     },
     "execution_count": 15,
     "metadata": {},
     "output_type": "execute_result"
    }
   ],
   "source": [
    "base_clf.fit(X, y)\n",
    "linear_clf.fit(X, y)\n",
    "ml_clf.fit(X, y)"
   ]
  },
  {
   "cell_type": "markdown",
   "metadata": {},
   "source": [
    "## Correlation explanations"
   ]
  },
  {
   "cell_type": "code",
   "execution_count": 16,
   "metadata": {
    "ExecuteTime": {
     "end_time": "2020-09-01T01:15:15.846726Z",
     "start_time": "2020-09-01T01:15:15.824182Z"
    }
   },
   "outputs": [],
   "source": [
    "df = pd.read_csv('CRT_nodummies.csv')\n",
    "X = df.drop(columns=y_var)\n",
    "X_cols = [col for col in df.columns if col != y_var]\n",
    "\n",
    "CRT_cols = ['Jerry', 'batball', 'lilypads', 'water', 'widgets', 'trucks', '3flips', 'giftwrap']\n",
    "CRT = df[CRT_cols].sum(axis=1)"
   ]
  },
  {
   "cell_type": "code",
   "execution_count": 17,
   "metadata": {
    "ExecuteTime": {
     "end_time": "2020-09-01T01:15:15.864010Z",
     "start_time": "2020-09-01T01:15:15.848940Z"
    }
   },
   "outputs": [],
   "source": [
    "def model(X, predict_proba=False):\n",
    "    X = pd.DataFrame(X, columns=X_cols)\n",
    "    X = pd.get_dummies(X, columns=['school', 'Sex', 'RACE', 'Prestige'])\n",
    "    X['CRT'] = X[['batball', 'widgets', 'lilypads']].sum(axis=1)\n",
    "    X = X.drop(columns='Sex_Female')\n",
    "    if predict_proba:\n",
    "        return ml_clf.predict_proba(X)[:,1]\n",
    "    return ml_clf.predict(X)\n",
    "\n",
    "model_proba = partial(model, predict_proba=True)"
   ]
  },
  {
   "cell_type": "markdown",
   "metadata": {},
   "source": [
    "### Feature importances for all variables"
   ]
  },
  {
   "cell_type": "code",
   "execution_count": 18,
   "metadata": {
    "ExecuteTime": {
     "end_time": "2020-09-01T01:23:26.758332Z",
     "start_time": "2020-09-01T01:15:15.873224Z"
    }
   },
   "outputs": [
    {
     "data": {
      "text/html": [
       "<div>\n",
       "<style scoped>\n",
       "    .dataframe tbody tr th:only-of-type {\n",
       "        vertical-align: middle;\n",
       "    }\n",
       "\n",
       "    .dataframe tbody tr th {\n",
       "        vertical-align: top;\n",
       "    }\n",
       "\n",
       "    .dataframe thead th {\n",
       "        text-align: right;\n",
       "    }\n",
       "</style>\n",
       "<table border=\"1\" class=\"dataframe\">\n",
       "  <thead>\n",
       "    <tr style=\"text-align: right;\">\n",
       "      <th></th>\n",
       "      <th>CRT</th>\n",
       "      <th>ACT</th>\n",
       "      <th>IQ</th>\n",
       "      <th>Male</th>\n",
       "      <th>Feature</th>\n",
       "    </tr>\n",
       "  </thead>\n",
       "  <tbody>\n",
       "    <tr>\n",
       "      <th>0</th>\n",
       "      <td>0.073873</td>\n",
       "      <td>0.026030</td>\n",
       "      <td>0.073306</td>\n",
       "      <td>0.004970</td>\n",
       "      <td>IQ</td>\n",
       "    </tr>\n",
       "    <tr>\n",
       "      <th>1</th>\n",
       "      <td>0.055071</td>\n",
       "      <td>0.067787</td>\n",
       "      <td>0.050822</td>\n",
       "      <td>0.001417</td>\n",
       "      <td>ACT</td>\n",
       "    </tr>\n",
       "    <tr>\n",
       "      <th>2</th>\n",
       "      <td>0.021282</td>\n",
       "      <td>0.008214</td>\n",
       "      <td>0.021692</td>\n",
       "      <td>0.001015</td>\n",
       "      <td>lilypads</td>\n",
       "    </tr>\n",
       "    <tr>\n",
       "      <th>3</th>\n",
       "      <td>0.015621</td>\n",
       "      <td>0.005145</td>\n",
       "      <td>0.015594</td>\n",
       "      <td>0.000826</td>\n",
       "      <td>batball</td>\n",
       "    </tr>\n",
       "    <tr>\n",
       "      <th>4</th>\n",
       "      <td>0.015458</td>\n",
       "      <td>0.004680</td>\n",
       "      <td>0.015562</td>\n",
       "      <td>0.001110</td>\n",
       "      <td>widgets</td>\n",
       "    </tr>\n",
       "    <tr>\n",
       "      <th>5</th>\n",
       "      <td>0.009667</td>\n",
       "      <td>0.002129</td>\n",
       "      <td>0.009661</td>\n",
       "      <td>0.000792</td>\n",
       "      <td>giftwrap</td>\n",
       "    </tr>\n",
       "    <tr>\n",
       "      <th>6</th>\n",
       "      <td>0.009541</td>\n",
       "      <td>0.002361</td>\n",
       "      <td>0.008958</td>\n",
       "      <td>0.001311</td>\n",
       "      <td>water</td>\n",
       "    </tr>\n",
       "    <tr>\n",
       "      <th>7</th>\n",
       "      <td>0.009420</td>\n",
       "      <td>0.002918</td>\n",
       "      <td>0.008466</td>\n",
       "      <td>0.000452</td>\n",
       "      <td>Jerry</td>\n",
       "    </tr>\n",
       "    <tr>\n",
       "      <th>8</th>\n",
       "      <td>0.007583</td>\n",
       "      <td>0.002275</td>\n",
       "      <td>0.007668</td>\n",
       "      <td>0.000855</td>\n",
       "      <td>trucks</td>\n",
       "    </tr>\n",
       "    <tr>\n",
       "      <th>9</th>\n",
       "      <td>0.006607</td>\n",
       "      <td>0.001544</td>\n",
       "      <td>0.006039</td>\n",
       "      <td>0.000901</td>\n",
       "      <td>3flips</td>\n",
       "    </tr>\n",
       "    <tr>\n",
       "      <th>10</th>\n",
       "      <td>0.004671</td>\n",
       "      <td>0.000486</td>\n",
       "      <td>0.004963</td>\n",
       "      <td>0.005408</td>\n",
       "      <td>Sex</td>\n",
       "    </tr>\n",
       "    <tr>\n",
       "      <th>11</th>\n",
       "      <td>0.000000</td>\n",
       "      <td>0.000000</td>\n",
       "      <td>0.000000</td>\n",
       "      <td>0.000000</td>\n",
       "      <td>school</td>\n",
       "    </tr>\n",
       "    <tr>\n",
       "      <th>12</th>\n",
       "      <td>0.000000</td>\n",
       "      <td>0.000000</td>\n",
       "      <td>0.000000</td>\n",
       "      <td>0.000000</td>\n",
       "      <td>RACE</td>\n",
       "    </tr>\n",
       "    <tr>\n",
       "      <th>13</th>\n",
       "      <td>0.000000</td>\n",
       "      <td>0.000000</td>\n",
       "      <td>0.000000</td>\n",
       "      <td>0.000000</td>\n",
       "      <td>Prestige</td>\n",
       "    </tr>\n",
       "  </tbody>\n",
       "</table>\n",
       "</div>"
      ],
      "text/plain": [
       "         CRT       ACT        IQ      Male   Feature\n",
       "0   0.073873  0.026030  0.073306  0.004970        IQ\n",
       "1   0.055071  0.067787  0.050822  0.001417       ACT\n",
       "2   0.021282  0.008214  0.021692  0.001015  lilypads\n",
       "3   0.015621  0.005145  0.015594  0.000826   batball\n",
       "4   0.015458  0.004680  0.015562  0.001110   widgets\n",
       "5   0.009667  0.002129  0.009661  0.000792  giftwrap\n",
       "6   0.009541  0.002361  0.008958  0.001311     water\n",
       "7   0.009420  0.002918  0.008466  0.000452     Jerry\n",
       "8   0.007583  0.002275  0.007668  0.000855    trucks\n",
       "9   0.006607  0.001544  0.006039  0.000901    3flips\n",
       "10  0.004671  0.000486  0.004963  0.005408       Sex\n",
       "11  0.000000  0.000000  0.000000  0.000000    school\n",
       "12  0.000000  0.000000  0.000000  0.000000      RACE\n",
       "13  0.000000  0.000000  0.000000  0.000000  Prestige"
      ]
     },
     "execution_count": 18,
     "metadata": {},
     "output_type": "execute_result"
    }
   ],
   "source": [
    "N_SAMPLES = 100\n",
    "\n",
    "def compute_gshap(var):\n",
    "    g = lambda output: np.corrcoef(output, var)[0][1]\n",
    "    explainer = gshap.KernelExplainer(model_proba, X, g)\n",
    "    gshap_values = explainer.gshap_values(X, nsamples=N_SAMPLES)\n",
    "    return gshap_values * np.corrcoef(y, var)[0][1]\n",
    "\n",
    "variables = (('CRT', CRT), ('ACT', df['ACT']), ('IQ', df['IQ']), ('Male', df['Sex']=='Male'))\n",
    "corr_gshap_values = {key: compute_gshap(var) for key, var in variables}\n",
    "corr_gshap_values['Feature'] = X_cols\n",
    "corr_gshap_df = pd.DataFrame(corr_gshap_values).sort_values('CRT', ascending=False).reset_index(drop=True)\n",
    "corr_gshap_df"
   ]
  },
  {
   "cell_type": "code",
   "execution_count": 19,
   "metadata": {
    "ExecuteTime": {
     "end_time": "2020-09-01T01:23:28.604451Z",
     "start_time": "2020-09-01T01:23:26.760354Z"
    }
   },
   "outputs": [
    {
     "data": {
      "image/png": "[encoded data removed]",
      "text/plain": [
       "<Figure size 864x216 with 4 Axes>"
      ]
     },
     "metadata": {},
     "output_type": "display_data"
    }
   ],
   "source": [
    "tmp_df = pd.melt(corr_gshap_df, id_vars='Feature', var_name='Correlated feature')\n",
    "g = sns.FacetGrid(tmp_df, col='Correlated feature', sharex=False)\n",
    "g.map(sns.barplot, 'value', 'Feature').set_axis_labels('Explained correlation', 'Explaining feature')\n",
    "if PLOTS_DIR is not None:\n",
    "    plt.savefig(os.path.join(PLOTS_DIR, 'CRT_corr_gshap.png'), bbox_inches='tight')\n",
    "plt.show()"
   ]
  },
  {
   "cell_type": "markdown",
   "metadata": {},
   "source": [
    "### Total correlation explained"
   ]
  },
  {
   "cell_type": "code",
   "execution_count": 20,
   "metadata": {
    "ExecuteTime": {
     "end_time": "2020-09-01T01:23:28.615766Z",
     "start_time": "2020-09-01T01:23:28.606724Z"
    }
   },
   "outputs": [
    {
     "data": {
      "text/plain": [
       "CRT     0.228795\n",
       "ACT     0.123571\n",
       "IQ      0.222731\n",
       "Male    0.019057\n",
       "dtype: float64"
      ]
     },
     "execution_count": 20,
     "metadata": {},
     "output_type": "execute_result"
    }
   ],
   "source": [
    "corr_gshap_df.drop(columns='Feature').sum()"
   ]
  },
  {
   "cell_type": "markdown",
   "metadata": {},
   "source": [
    "### Correlation explained by CRT items"
   ]
  },
  {
   "cell_type": "code",
   "execution_count": 21,
   "metadata": {
    "ExecuteTime": {
     "end_time": "2020-09-01T01:23:28.635053Z",
     "start_time": "2020-09-01T01:23:28.617906Z"
    }
   },
   "outputs": [
    {
     "data": {
      "text/plain": [
       "CRT     0.095180\n",
       "ACT     0.029268\n",
       "IQ      0.093640\n",
       "Male    0.007262\n",
       "dtype: float64"
      ]
     },
     "execution_count": 21,
     "metadata": {},
     "output_type": "execute_result"
    }
   ],
   "source": [
    "corr_gshap_df[corr_gshap_df['Feature'].isin(CRT_cols)].drop(columns='Feature').sum()"
   ]
  },
  {
   "cell_type": "markdown",
   "metadata": {},
   "source": [
    "## Performance explanations"
   ]
  },
  {
   "cell_type": "code",
   "execution_count": 22,
   "metadata": {
    "ExecuteTime": {
     "end_time": "2020-09-01T01:30:02.920540Z",
     "start_time": "2020-09-01T01:23:28.638828Z"
    }
   },
   "outputs": [
    {
     "name": "stdout",
     "output_type": "stream",
     "text": [
      "\n",
      "Metric: accuracy\n",
      "Training performance: 0.6730\n",
      "Performance on shuffled training data: 0.5013\n",
      "Improvement over shuffled data: 0.1716\n",
      "Sum of G-SHAP values: 0.1646\n",
      "\n",
      "Metric: AUC\n",
      "Training performance: 0.7400\n",
      "Performance on shuffled training data: 0.5002\n",
      "Improvement over shuffled data: 0.2398\n",
      "Sum of G-SHAP values: 0.2396\n",
      "\n",
      "Metric: F1\n",
      "Training performance: 0.6373\n",
      "Performance on shuffled training data: 0.4472\n",
      "Improvement over shuffled data: 0.1902\n",
      "Sum of G-SHAP values: 0.1905\n"
     ]
    }
   ],
   "source": [
    "N_SAMPLES = 100\n",
    "COMPARISON_SAMPLES = 100\n",
    "    \n",
    "perf_gshap_values = {}\n",
    "metrics = (\n",
    "    ('accuracy', lambda output: accuracy_score(y, output > .5)),\n",
    "    ('AUC', lambda output: roc_auc_score(y, output)),\n",
    "    ('F1', lambda output: f1_score(y, output > .5))\n",
    ")\n",
    "\n",
    "for key, g in metrics:\n",
    "    explainer = gshap.KernelExplainer(model_proba, X, g)\n",
    "    gshap_values = explainer.gshap_values(X, nsamples=N_SAMPLES)\n",
    "    g_comparison, g_background = explainer.compare(X, bootstrap_samples=COMPARISON_SAMPLES)\n",
    "    print('\\nMetric: {}'.format(key))\n",
    "    print('Training performance: {:.4f}'.format(g_comparison))\n",
    "    print('Performance on shuffled training data: {:.4f}'.format(g_background))\n",
    "    print('Improvement over shuffled data: {:.4f}'.format(g_comparison-g_background))\n",
    "    print('Sum of G-SHAP values: {:.4f}'.format(gshap_values.sum()))\n",
    "    perf_gshap_values[key] = gshap_values"
   ]
  },
  {
   "cell_type": "code",
   "execution_count": 23,
   "metadata": {
    "ExecuteTime": {
     "end_time": "2020-09-01T01:30:02.950445Z",
     "start_time": "2020-09-01T01:30:02.929237Z"
    }
   },
   "outputs": [
    {
     "data": {
      "text/html": [
       "<div>\n",
       "<style scoped>\n",
       "    .dataframe tbody tr th:only-of-type {\n",
       "        vertical-align: middle;\n",
       "    }\n",
       "\n",
       "    .dataframe tbody tr th {\n",
       "        vertical-align: top;\n",
       "    }\n",
       "\n",
       "    .dataframe thead th {\n",
       "        text-align: right;\n",
       "    }\n",
       "</style>\n",
       "<table border=\"1\" class=\"dataframe\">\n",
       "  <thead>\n",
       "    <tr style=\"text-align: right;\">\n",
       "      <th></th>\n",
       "      <th>accuracy</th>\n",
       "      <th>AUC</th>\n",
       "      <th>F1</th>\n",
       "      <th>Feature</th>\n",
       "    </tr>\n",
       "  </thead>\n",
       "  <tbody>\n",
       "    <tr>\n",
       "      <th>0</th>\n",
       "      <td>0.061493</td>\n",
       "      <td>0.094550</td>\n",
       "      <td>0.071186</td>\n",
       "      <td>ACT</td>\n",
       "    </tr>\n",
       "    <tr>\n",
       "      <th>1</th>\n",
       "      <td>0.038998</td>\n",
       "      <td>0.053957</td>\n",
       "      <td>0.045365</td>\n",
       "      <td>IQ</td>\n",
       "    </tr>\n",
       "    <tr>\n",
       "      <th>2</th>\n",
       "      <td>0.013554</td>\n",
       "      <td>0.016037</td>\n",
       "      <td>0.015250</td>\n",
       "      <td>batball</td>\n",
       "    </tr>\n",
       "    <tr>\n",
       "      <th>3</th>\n",
       "      <td>0.013440</td>\n",
       "      <td>0.019568</td>\n",
       "      <td>0.016630</td>\n",
       "      <td>lilypads</td>\n",
       "    </tr>\n",
       "    <tr>\n",
       "      <th>4</th>\n",
       "      <td>0.009055</td>\n",
       "      <td>0.010936</td>\n",
       "      <td>0.010262</td>\n",
       "      <td>giftwrap</td>\n",
       "    </tr>\n",
       "    <tr>\n",
       "      <th>5</th>\n",
       "      <td>0.008053</td>\n",
       "      <td>0.009174</td>\n",
       "      <td>0.008538</td>\n",
       "      <td>Jerry</td>\n",
       "    </tr>\n",
       "    <tr>\n",
       "      <th>6</th>\n",
       "      <td>0.005236</td>\n",
       "      <td>0.007206</td>\n",
       "      <td>0.005367</td>\n",
       "      <td>widgets</td>\n",
       "    </tr>\n",
       "    <tr>\n",
       "      <th>7</th>\n",
       "      <td>0.004612</td>\n",
       "      <td>0.007737</td>\n",
       "      <td>0.005967</td>\n",
       "      <td>Sex</td>\n",
       "    </tr>\n",
       "    <tr>\n",
       "      <th>8</th>\n",
       "      <td>0.004102</td>\n",
       "      <td>0.005811</td>\n",
       "      <td>0.004164</td>\n",
       "      <td>trucks</td>\n",
       "    </tr>\n",
       "    <tr>\n",
       "      <th>9</th>\n",
       "      <td>0.003497</td>\n",
       "      <td>0.010148</td>\n",
       "      <td>0.005179</td>\n",
       "      <td>water</td>\n",
       "    </tr>\n",
       "    <tr>\n",
       "      <th>10</th>\n",
       "      <td>0.002514</td>\n",
       "      <td>0.004526</td>\n",
       "      <td>0.002602</td>\n",
       "      <td>3flips</td>\n",
       "    </tr>\n",
       "    <tr>\n",
       "      <th>11</th>\n",
       "      <td>0.000000</td>\n",
       "      <td>0.000000</td>\n",
       "      <td>0.000000</td>\n",
       "      <td>school</td>\n",
       "    </tr>\n",
       "    <tr>\n",
       "      <th>12</th>\n",
       "      <td>0.000000</td>\n",
       "      <td>0.000000</td>\n",
       "      <td>0.000000</td>\n",
       "      <td>RACE</td>\n",
       "    </tr>\n",
       "    <tr>\n",
       "      <th>13</th>\n",
       "      <td>0.000000</td>\n",
       "      <td>0.000000</td>\n",
       "      <td>0.000000</td>\n",
       "      <td>Prestige</td>\n",
       "    </tr>\n",
       "  </tbody>\n",
       "</table>\n",
       "</div>"
      ],
      "text/plain": [
       "    accuracy       AUC        F1   Feature\n",
       "0   0.061493  0.094550  0.071186       ACT\n",
       "1   0.038998  0.053957  0.045365        IQ\n",
       "2   0.013554  0.016037  0.015250   batball\n",
       "3   0.013440  0.019568  0.016630  lilypads\n",
       "4   0.009055  0.010936  0.010262  giftwrap\n",
       "5   0.008053  0.009174  0.008538     Jerry\n",
       "6   0.005236  0.007206  0.005367   widgets\n",
       "7   0.004612  0.007737  0.005967       Sex\n",
       "8   0.004102  0.005811  0.004164    trucks\n",
       "9   0.003497  0.010148  0.005179     water\n",
       "10  0.002514  0.004526  0.002602    3flips\n",
       "11  0.000000  0.000000  0.000000    school\n",
       "12  0.000000  0.000000  0.000000      RACE\n",
       "13  0.000000  0.000000  0.000000  Prestige"
      ]
     },
     "execution_count": 23,
     "metadata": {},
     "output_type": "execute_result"
    }
   ],
   "source": [
    "perf_gshap_values['Feature'] = X_cols\n",
    "perf_gshap_df = pd.DataFrame(perf_gshap_values).sort_values('accuracy', ascending=False).reset_index(drop=True)\n",
    "perf_gshap_df"
   ]
  },
  {
   "cell_type": "code",
   "execution_count": 24,
   "metadata": {
    "ExecuteTime": {
     "end_time": "2020-09-01T01:30:02.987370Z",
     "start_time": "2020-09-01T01:30:02.958002Z"
    }
   },
   "outputs": [
    {
     "data": {
      "text/plain": [
       "accuracy    0.059452\n",
       "AUC         0.083405\n",
       "F1          0.067992\n",
       "dtype: float64"
      ]
     },
     "execution_count": 24,
     "metadata": {},
     "output_type": "execute_result"
    }
   ],
   "source": [
    "perf_gshap_df[perf_gshap_df['Feature'].isin(CRT_cols)].drop(columns='Feature').sum()"
   ]
  },
  {
   "cell_type": "code",
   "execution_count": 25,
   "metadata": {
    "ExecuteTime": {
     "end_time": "2020-09-01T01:30:04.482254Z",
     "start_time": "2020-09-01T01:30:02.999075Z"
    }
   },
   "outputs": [
    {
     "data": {
      "image/png": "[encoded data removed]",
      "text/plain": [
       "<Figure size 648x216 with 3 Axes>"
      ]
     },
     "metadata": {},
     "output_type": "display_data"
    }
   ],
   "source": [
    "tmp_df = pd.melt(perf_gshap_df, id_vars='Feature', var_name='Metric')\n",
    "g = sns.FacetGrid(tmp_df, col='Metric', sharex=False)\n",
    "g.map(sns.barplot, 'value', 'Feature').set_axis_labels('Explained performance', 'Explaining feature')\n",
    "if PLOTS_DIR is not None:\n",
    "    plt.savefig(os.path.join(PLOTS_DIR, 'CRT_perf_gshap.png'), bbox_inches='tight')\n",
    "plt.show()"
   ]
  },
  {
   "cell_type": "code",
   "execution_count": null,
   "metadata": {},
   "outputs": [],
   "source": []
  }
 ],
 "metadata": {
  "kernelspec": {
   "display_name": "crt",
   "language": "python",
   "name": "crt"
  },
  "language_info": {
   "codemirror_mode": {
    "name": "ipython",
    "version": 3
   },
   "file_extension": ".py",
   "mimetype": "text/x-python",
   "name": "python",
   "nbconvert_exporter": "python",
   "pygments_lexer": "ipython3",
   "version": "3.6.8"
  },
  "toc": {
   "base_numbering": 1,
   "nav_menu": {},
   "number_sections": true,
   "sideBar": true,
   "skip_h1_title": false,
   "title_cell": "Table of Contents",
   "title_sidebar": "Contents",
   "toc_cell": false,
   "toc_position": {},
   "toc_section_display": true,
   "toc_window_display": false
  },
  "varInspector": {
   "cols": {
    "lenName": 16,
    "lenType": 16,
    "lenVar": 40
   },
   "kernels_config": {
    "python": {
     "delete_cmd_postfix": "",
     "delete_cmd_prefix": "del ",
     "library": "var_list.py",
     "varRefreshCmd": "print(var_dic_list())"
    },
    "r": {
     "delete_cmd_postfix": ") ",
     "delete_cmd_prefix": "rm(",
     "library": "var_list.r",
     "varRefreshCmd": "cat(var_dic_list()) "
    }
   },
   "types_to_exclude": [
    "module",
    "function",
    "builtin_function_or_method",
    "instance",
    "_Feature"
   ],
   "window_display": false
  }
 },
 "nbformat": 4,
 "nbformat_minor": 4
}
