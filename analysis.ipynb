{
 "cells": [
  {
   "cell_type": "code",
   "execution_count": 1,
   "metadata": {
    "ExecuteTime": {
     "end_time": "2020-08-26T20:11:53.599678Z",
     "start_time": "2020-08-26T20:11:51.983040Z"
    }
   },
   "outputs": [],
   "source": [
    "import warnings\n",
    "warnings.simplefilter('ignore')\n",
    "\n",
    "import gshap\n",
    "import pandas as pd\n",
    "import matplotlib.pyplot as plt\n",
    "import numpy as np\n",
    "import seaborn as sns\n",
    "from sklearn.cluster import FeatureAgglomeration\n",
    "from sklearn.ensemble import ExtraTreesClassifier\n",
    "from sklearn.linear_model import LogisticRegression, SGDClassifier\n",
    "from sklearn.metrics import accuracy_score\n",
    "from sklearn.model_selection import KFold\n",
    "from sklearn.neural_network import MLPClassifier\n",
    "from sklearn.pipeline import make_pipeline, make_union\n",
    "from sklearn.utils import resample\n",
    "from tpot.builtins import StackingEstimator\n",
    "\n",
    "import os\n",
    "import random\n",
    "from copy import copy\n",
    "from functools import partial\n",
    "\n",
    "random.seed(0)\n",
    "np.random.seed(0)\n",
    "\n",
    "PLOTS_DIR = 'plots'"
   ]
  },
  {
   "cell_type": "code",
   "execution_count": 2,
   "metadata": {
    "ExecuteTime": {
     "end_time": "2020-08-26T20:11:53.657651Z",
     "start_time": "2020-08-26T20:11:53.601430Z"
    }
   },
   "outputs": [
    {
     "data": {
      "text/html": [
       "<div>\n",
       "<style scoped>\n",
       "    .dataframe tbody tr th:only-of-type {\n",
       "        vertical-align: middle;\n",
       "    }\n",
       "\n",
       "    .dataframe tbody tr th {\n",
       "        vertical-align: top;\n",
       "    }\n",
       "\n",
       "    .dataframe thead th {\n",
       "        text-align: right;\n",
       "    }\n",
       "</style>\n",
       "<table border=\"1\" class=\"dataframe\">\n",
       "  <thead>\n",
       "    <tr style=\"text-align: right;\">\n",
       "      <th></th>\n",
       "      <th>ACT</th>\n",
       "      <th>batball</th>\n",
       "      <th>3flips</th>\n",
       "      <th>widgets</th>\n",
       "      <th>trucks</th>\n",
       "      <th>lilypads</th>\n",
       "      <th>water</th>\n",
       "      <th>giftwrap</th>\n",
       "      <th>Jerry</th>\n",
       "      <th>IQ</th>\n",
       "      <th>...</th>\n",
       "      <th>school_UM (dearborn)</th>\n",
       "      <th>Sex_Male</th>\n",
       "      <th>RACE_Asian</th>\n",
       "      <th>RACE_Black</th>\n",
       "      <th>RACE_Latino</th>\n",
       "      <th>RACE_Other</th>\n",
       "      <th>RACE_White</th>\n",
       "      <th>Prestige_low</th>\n",
       "      <th>Prestige_middle</th>\n",
       "      <th>CRT</th>\n",
       "    </tr>\n",
       "  </thead>\n",
       "  <tbody>\n",
       "    <tr>\n",
       "      <th>0</th>\n",
       "      <td>26.0</td>\n",
       "      <td>0</td>\n",
       "      <td>0.0</td>\n",
       "      <td>0.0</td>\n",
       "      <td>0.0</td>\n",
       "      <td>0.0</td>\n",
       "      <td>0.0</td>\n",
       "      <td>1.0</td>\n",
       "      <td>0.0</td>\n",
       "      <td>1.0</td>\n",
       "      <td>...</td>\n",
       "      <td>1</td>\n",
       "      <td>0</td>\n",
       "      <td>0</td>\n",
       "      <td>0</td>\n",
       "      <td>0</td>\n",
       "      <td>0</td>\n",
       "      <td>1</td>\n",
       "      <td>1</td>\n",
       "      <td>0</td>\n",
       "      <td>0.0</td>\n",
       "    </tr>\n",
       "    <tr>\n",
       "      <th>1</th>\n",
       "      <td>23.0</td>\n",
       "      <td>1</td>\n",
       "      <td>0.0</td>\n",
       "      <td>0.0</td>\n",
       "      <td>0.0</td>\n",
       "      <td>1.0</td>\n",
       "      <td>0.0</td>\n",
       "      <td>1.0</td>\n",
       "      <td>1.0</td>\n",
       "      <td>4.0</td>\n",
       "      <td>...</td>\n",
       "      <td>1</td>\n",
       "      <td>0</td>\n",
       "      <td>0</td>\n",
       "      <td>1</td>\n",
       "      <td>0</td>\n",
       "      <td>0</td>\n",
       "      <td>0</td>\n",
       "      <td>1</td>\n",
       "      <td>0</td>\n",
       "      <td>2.0</td>\n",
       "    </tr>\n",
       "    <tr>\n",
       "      <th>2</th>\n",
       "      <td>27.0</td>\n",
       "      <td>0</td>\n",
       "      <td>0.0</td>\n",
       "      <td>0.0</td>\n",
       "      <td>1.0</td>\n",
       "      <td>1.0</td>\n",
       "      <td>1.0</td>\n",
       "      <td>1.0</td>\n",
       "      <td>0.0</td>\n",
       "      <td>4.0</td>\n",
       "      <td>...</td>\n",
       "      <td>1</td>\n",
       "      <td>1</td>\n",
       "      <td>0</td>\n",
       "      <td>0</td>\n",
       "      <td>0</td>\n",
       "      <td>0</td>\n",
       "      <td>1</td>\n",
       "      <td>1</td>\n",
       "      <td>0</td>\n",
       "      <td>1.0</td>\n",
       "    </tr>\n",
       "    <tr>\n",
       "      <th>3</th>\n",
       "      <td>22.0</td>\n",
       "      <td>0</td>\n",
       "      <td>0.0</td>\n",
       "      <td>0.0</td>\n",
       "      <td>0.0</td>\n",
       "      <td>0.0</td>\n",
       "      <td>0.0</td>\n",
       "      <td>0.0</td>\n",
       "      <td>0.0</td>\n",
       "      <td>0.0</td>\n",
       "      <td>...</td>\n",
       "      <td>1</td>\n",
       "      <td>1</td>\n",
       "      <td>0</td>\n",
       "      <td>1</td>\n",
       "      <td>0</td>\n",
       "      <td>0</td>\n",
       "      <td>0</td>\n",
       "      <td>1</td>\n",
       "      <td>0</td>\n",
       "      <td>0.0</td>\n",
       "    </tr>\n",
       "    <tr>\n",
       "      <th>4</th>\n",
       "      <td>31.0</td>\n",
       "      <td>1</td>\n",
       "      <td>1.0</td>\n",
       "      <td>1.0</td>\n",
       "      <td>1.0</td>\n",
       "      <td>1.0</td>\n",
       "      <td>1.0</td>\n",
       "      <td>1.0</td>\n",
       "      <td>1.0</td>\n",
       "      <td>8.0</td>\n",
       "      <td>...</td>\n",
       "      <td>1</td>\n",
       "      <td>1</td>\n",
       "      <td>0</td>\n",
       "      <td>0</td>\n",
       "      <td>0</td>\n",
       "      <td>1</td>\n",
       "      <td>0</td>\n",
       "      <td>1</td>\n",
       "      <td>0</td>\n",
       "      <td>3.0</td>\n",
       "    </tr>\n",
       "  </tbody>\n",
       "</table>\n",
       "<p>5 rows × 25 columns</p>\n",
       "</div>"
      ],
      "text/plain": [
       "    ACT  batball  3flips  widgets  trucks  lilypads  water  giftwrap  Jerry  \\\n",
       "0  26.0        0     0.0      0.0     0.0       0.0    0.0       1.0    0.0   \n",
       "1  23.0        1     0.0      0.0     0.0       1.0    0.0       1.0    1.0   \n",
       "2  27.0        0     0.0      0.0     1.0       1.0    1.0       1.0    0.0   \n",
       "3  22.0        0     0.0      0.0     0.0       0.0    0.0       0.0    0.0   \n",
       "4  31.0        1     1.0      1.0     1.0       1.0    1.0       1.0    1.0   \n",
       "\n",
       "    IQ  ...  school_UM (dearborn)  Sex_Male  RACE_Asian  RACE_Black  \\\n",
       "0  1.0  ...                     1         0           0           0   \n",
       "1  4.0  ...                     1         0           0           1   \n",
       "2  4.0  ...                     1         1           0           0   \n",
       "3  0.0  ...                     1         1           0           1   \n",
       "4  8.0  ...                     1         1           0           0   \n",
       "\n",
       "   RACE_Latino  RACE_Other  RACE_White  Prestige_low  Prestige_middle  CRT  \n",
       "0            0           0           1             1                0  0.0  \n",
       "1            0           0           0             1                0  2.0  \n",
       "2            0           0           1             1                0  1.0  \n",
       "3            0           0           0             1                0  0.0  \n",
       "4            0           1           0             1                0  3.0  \n",
       "\n",
       "[5 rows x 25 columns]"
      ]
     },
     "execution_count": 2,
     "metadata": {},
     "output_type": "execute_result"
    }
   ],
   "source": [
    "df = pd.read_csv('CRT_clean.csv')\n",
    "df.head()"
   ]
  },
  {
   "cell_type": "code",
   "execution_count": 3,
   "metadata": {
    "ExecuteTime": {
     "end_time": "2020-08-26T20:11:53.670183Z",
     "start_time": "2020-08-26T20:11:53.662611Z"
    }
   },
   "outputs": [
    {
     "name": "stdout",
     "output_type": "stream",
     "text": [
      "Numer of observations: 529\n",
      "Number of features: 24\n"
     ]
    }
   ],
   "source": [
    "n, n_cols = df.shape\n",
    "print('Numer of observations: {}'.format(n))\n",
    "print('Number of features: {}'.format(n_cols-1))"
   ]
  },
  {
   "cell_type": "code",
   "execution_count": 4,
   "metadata": {
    "ExecuteTime": {
     "end_time": "2020-08-26T20:11:53.723298Z",
     "start_time": "2020-08-26T20:11:53.673197Z"
    }
   },
   "outputs": [
    {
     "data": {
      "text/html": [
       "<div>\n",
       "<style scoped>\n",
       "    .dataframe tbody tr th:only-of-type {\n",
       "        vertical-align: middle;\n",
       "    }\n",
       "\n",
       "    .dataframe tbody tr th {\n",
       "        vertical-align: top;\n",
       "    }\n",
       "\n",
       "    .dataframe thead th {\n",
       "        text-align: right;\n",
       "    }\n",
       "</style>\n",
       "<table border=\"1\" class=\"dataframe\">\n",
       "  <thead>\n",
       "    <tr style=\"text-align: right;\">\n",
       "      <th></th>\n",
       "      <th>CRT</th>\n",
       "      <th>ACT</th>\n",
       "      <th>IQ</th>\n",
       "      <th>3.4K v 3.8K(2)</th>\n",
       "    </tr>\n",
       "  </thead>\n",
       "  <tbody>\n",
       "    <tr>\n",
       "      <th>count</th>\n",
       "      <td>529.000000</td>\n",
       "      <td>529.000000</td>\n",
       "      <td>529.000000</td>\n",
       "      <td>529.000000</td>\n",
       "    </tr>\n",
       "    <tr>\n",
       "      <th>mean</th>\n",
       "      <td>0.903592</td>\n",
       "      <td>26.338374</td>\n",
       "      <td>2.510397</td>\n",
       "      <td>0.489603</td>\n",
       "    </tr>\n",
       "    <tr>\n",
       "      <th>std</th>\n",
       "      <td>0.973205</td>\n",
       "      <td>3.978739</td>\n",
       "      <td>2.134756</td>\n",
       "      <td>0.500365</td>\n",
       "    </tr>\n",
       "    <tr>\n",
       "      <th>min</th>\n",
       "      <td>0.000000</td>\n",
       "      <td>15.000000</td>\n",
       "      <td>0.000000</td>\n",
       "      <td>0.000000</td>\n",
       "    </tr>\n",
       "    <tr>\n",
       "      <th>25%</th>\n",
       "      <td>0.000000</td>\n",
       "      <td>24.000000</td>\n",
       "      <td>1.000000</td>\n",
       "      <td>0.000000</td>\n",
       "    </tr>\n",
       "    <tr>\n",
       "      <th>50%</th>\n",
       "      <td>1.000000</td>\n",
       "      <td>27.000000</td>\n",
       "      <td>2.000000</td>\n",
       "      <td>0.000000</td>\n",
       "    </tr>\n",
       "    <tr>\n",
       "      <th>75%</th>\n",
       "      <td>2.000000</td>\n",
       "      <td>29.000000</td>\n",
       "      <td>4.000000</td>\n",
       "      <td>1.000000</td>\n",
       "    </tr>\n",
       "    <tr>\n",
       "      <th>max</th>\n",
       "      <td>3.000000</td>\n",
       "      <td>36.000000</td>\n",
       "      <td>8.000000</td>\n",
       "      <td>1.000000</td>\n",
       "    </tr>\n",
       "  </tbody>\n",
       "</table>\n",
       "</div>"
      ],
      "text/plain": [
       "              CRT         ACT          IQ  3.4K v 3.8K(2)\n",
       "count  529.000000  529.000000  529.000000      529.000000\n",
       "mean     0.903592   26.338374    2.510397        0.489603\n",
       "std      0.973205    3.978739    2.134756        0.500365\n",
       "min      0.000000   15.000000    0.000000        0.000000\n",
       "25%      0.000000   24.000000    1.000000        0.000000\n",
       "50%      1.000000   27.000000    2.000000        0.000000\n",
       "75%      2.000000   29.000000    4.000000        1.000000\n",
       "max      3.000000   36.000000    8.000000        1.000000"
      ]
     },
     "execution_count": 4,
     "metadata": {},
     "output_type": "execute_result"
    }
   ],
   "source": [
    "df[['CRT', 'ACT', 'IQ', '3.4K v 3.8K(2)']].describe()"
   ]
  },
  {
   "cell_type": "code",
   "execution_count": 5,
   "metadata": {
    "ExecuteTime": {
     "end_time": "2020-08-26T20:11:53.755957Z",
     "start_time": "2020-08-26T20:11:53.731340Z"
    }
   },
   "outputs": [
    {
     "data": {
      "text/html": [
       "<div>\n",
       "<style scoped>\n",
       "    .dataframe tbody tr th:only-of-type {\n",
       "        vertical-align: middle;\n",
       "    }\n",
       "\n",
       "    .dataframe tbody tr th {\n",
       "        vertical-align: top;\n",
       "    }\n",
       "\n",
       "    .dataframe thead th {\n",
       "        text-align: right;\n",
       "    }\n",
       "</style>\n",
       "<table border=\"1\" class=\"dataframe\">\n",
       "  <thead>\n",
       "    <tr style=\"text-align: right;\">\n",
       "      <th></th>\n",
       "      <th>CRT</th>\n",
       "      <th>ACT</th>\n",
       "      <th>IQ</th>\n",
       "      <th>3.4K v 3.8K(2)</th>\n",
       "    </tr>\n",
       "  </thead>\n",
       "  <tbody>\n",
       "    <tr>\n",
       "      <th>CRT</th>\n",
       "      <td>1.000000</td>\n",
       "      <td>0.477019</td>\n",
       "      <td>0.845099</td>\n",
       "      <td>0.233242</td>\n",
       "    </tr>\n",
       "    <tr>\n",
       "      <th>ACT</th>\n",
       "      <td>0.477019</td>\n",
       "      <td>1.000000</td>\n",
       "      <td>0.528836</td>\n",
       "      <td>0.190611</td>\n",
       "    </tr>\n",
       "    <tr>\n",
       "      <th>IQ</th>\n",
       "      <td>0.845099</td>\n",
       "      <td>0.528836</td>\n",
       "      <td>1.000000</td>\n",
       "      <td>0.260302</td>\n",
       "    </tr>\n",
       "    <tr>\n",
       "      <th>3.4K v 3.8K(2)</th>\n",
       "      <td>0.233242</td>\n",
       "      <td>0.190611</td>\n",
       "      <td>0.260302</td>\n",
       "      <td>1.000000</td>\n",
       "    </tr>\n",
       "  </tbody>\n",
       "</table>\n",
       "</div>"
      ],
      "text/plain": [
       "                     CRT       ACT        IQ  3.4K v 3.8K(2)\n",
       "CRT             1.000000  0.477019  0.845099        0.233242\n",
       "ACT             0.477019  1.000000  0.528836        0.190611\n",
       "IQ              0.845099  0.528836  1.000000        0.260302\n",
       "3.4K v 3.8K(2)  0.233242  0.190611  0.260302        1.000000"
      ]
     },
     "execution_count": 5,
     "metadata": {},
     "output_type": "execute_result"
    }
   ],
   "source": [
    "df[['CRT', 'ACT', 'IQ', '3.4K v 3.8K(2)']].corr()"
   ]
  },
  {
   "cell_type": "code",
   "execution_count": 6,
   "metadata": {
    "ExecuteTime": {
     "end_time": "2020-08-26T20:11:53.775933Z",
     "start_time": "2020-08-26T20:11:53.765001Z"
    }
   },
   "outputs": [],
   "source": [
    "class Baseline():\n",
    "    def __init__(self, prediction=None):\n",
    "        self.prediction = prediction\n",
    "    \n",
    "    def fit(self, X, y):\n",
    "        self.prediction = round(y.mean())\n",
    "        return self\n",
    "        \n",
    "    def predict(self, X):\n",
    "        return self.prediction * np.ones(shape=X.shape[0])\n",
    "    \n",
    "    def score(self, X, y):\n",
    "        return accuracy_score(y, self.predict(X))\n",
    "    \n",
    "    def get_params(self, *args, **kwargs):\n",
    "        return {'prediction': self.prediction}\n",
    "    \n",
    "base = Baseline()\n",
    "\n",
    "logit = LogisticRegression()\n",
    "    \n",
    "pipeline_clf = make_pipeline(\n",
    "    FeatureAgglomeration(affinity=\"euclidean\", linkage=\"ward\"),\n",
    "    StackingEstimator(\n",
    "        estimator=SGDClassifier(\n",
    "            alpha=0.0, \n",
    "            eta0=0.1, \n",
    "            fit_intercept=False, \n",
    "            l1_ratio=0.5, \n",
    "            learning_rate=\"constant\", \n",
    "            loss=\"perceptron\", \n",
    "            penalty=\"elasticnet\", \n",
    "            power_t=0.5\n",
    "        )\n",
    "    ),\n",
    "    StackingEstimator(\n",
    "        estimator=MLPClassifier(alpha=0.001, learning_rate_init=1.0)\n",
    "    ),\n",
    "    ExtraTreesClassifier(\n",
    "        bootstrap=False, \n",
    "        criterion=\"entropy\", \n",
    "        max_features=0.3, \n",
    "        min_samples_leaf=7, \n",
    "        min_samples_split=13, \n",
    "        n_estimators=100\n",
    "    )\n",
    ")"
   ]
  },
  {
   "cell_type": "code",
   "execution_count": 7,
   "metadata": {
    "ExecuteTime": {
     "end_time": "2020-08-26T20:11:55.052173Z",
     "start_time": "2020-08-26T20:11:53.780914Z"
    }
   },
   "outputs": [
    {
     "name": "stdout",
     "output_type": "stream",
     "text": [
      "Xval accuracy baseline model: 0.4803\n",
      "Xval accuracy logit: 0.5935\n",
      "Xval accuracy pipeline: 0.6162\n"
     ]
    }
   ],
   "source": [
    "y_var = '3.4K v 3.8K(2)'\n",
    "X = df.drop(columns=y_var).to_numpy()\n",
    "CRT = df['CRT'].to_numpy().reshape((-1, 1))\n",
    "y = df[y_var].to_numpy()\n",
    "\n",
    "kf = KFold()\n",
    "\n",
    "def get_xval_scores(X=X, CRT=CRT, y=y):\n",
    "    xval_scores = {'base': [], 'logit': [], 'pipeline': []}\n",
    "    for train_idx, test_idx in kf.split(X, CRT, y):\n",
    "        X_train, X_test, CRT_train, CRT_test, y_train, y_test = (\n",
    "            X[train_idx], X[test_idx], \n",
    "            CRT[train_idx], CRT[test_idx],\n",
    "            y[train_idx], y[test_idx]\n",
    "        )\n",
    "        xval_scores['base'].append(base.fit(X_train, y_train).score(X_test, y_test))\n",
    "        xval_scores['logit'].append(logit.fit(CRT_train, y_train).score(CRT_test, y_test))\n",
    "        xval_scores['pipeline'].append(pipeline_clf.fit(X_train, y_train).score(X_test, y_test))\n",
    "    return {key: sum(val)/len(val) for key, val in xval_scores.items()}\n",
    "\n",
    "xval_scores = get_xval_scores()\n",
    "print('Xval accuracy baseline model: {:.4f}'.format(xval_scores['base']))\n",
    "print('Xval accuracy logit: {:.4f}'.format(xval_scores['logit']))\n",
    "print('Xval accuracy pipeline: {:.4f}'.format(xval_scores['pipeline']))"
   ]
  },
  {
   "cell_type": "code",
   "execution_count": 8,
   "metadata": {
    "ExecuteTime": {
     "end_time": "2020-08-26T20:31:37.133270Z",
     "start_time": "2020-08-26T20:11:55.054353Z"
    }
   },
   "outputs": [
    {
     "name": "stdout",
     "output_type": "stream",
     "text": [
      "\n",
      "Iteration: 0\n",
      "Pipeline versus baseline\n",
      "Average improvement: 0.1822\n",
      "p=0.000\n",
      "Pipeline versus logit\n",
      "Average improvement: 0.1430\n",
      "p=0.000\n",
      "\n",
      "Iteration: 50\n",
      "Pipeline versus baseline\n",
      "Average improvement: 0.3018\n",
      "p=0.000\n",
      "Pipeline versus logit\n",
      "Average improvement: 0.0759\n",
      "p=0.000\n",
      "\n",
      "Iteration: 100\n",
      "Pipeline versus baseline\n",
      "Average improvement: 0.2985\n",
      "p=0.000\n",
      "Pipeline versus logit\n",
      "Average improvement: 0.0801\n",
      "p=0.030\n",
      "\n",
      "Iteration: 150\n",
      "Pipeline versus baseline\n",
      "Average improvement: 0.2946\n",
      "p=0.000\n",
      "Pipeline versus logit\n",
      "Average improvement: 0.0805\n",
      "p=0.020\n",
      "\n",
      "Iteration: 200\n",
      "Pipeline versus baseline\n",
      "Average improvement: 0.2915\n",
      "p=0.000\n",
      "Pipeline versus logit\n",
      "Average improvement: 0.0816\n",
      "p=0.020\n",
      "\n",
      "Iteration: 250\n",
      "Pipeline versus baseline\n",
      "Average improvement: 0.2904\n",
      "p=0.000\n",
      "Pipeline versus logit\n",
      "Average improvement: 0.0827\n",
      "p=0.016\n",
      "\n",
      "Iteration: 300\n",
      "Pipeline versus baseline\n",
      "Average improvement: 0.2915\n",
      "p=0.000\n",
      "Pipeline versus logit\n",
      "Average improvement: 0.0836\n",
      "p=0.013\n",
      "\n",
      "Iteration: 350\n",
      "Pipeline versus baseline\n",
      "Average improvement: 0.2897\n",
      "p=0.000\n",
      "Pipeline versus logit\n",
      "Average improvement: 0.0833\n",
      "p=0.011\n",
      "\n",
      "Iteration: 400\n",
      "Pipeline versus baseline\n",
      "Average improvement: 0.2900\n",
      "p=0.000\n",
      "Pipeline versus logit\n",
      "Average improvement: 0.0841\n",
      "p=0.010\n",
      "\n",
      "Iteration: 450\n",
      "Pipeline versus baseline\n",
      "Average improvement: 0.2916\n",
      "p=0.000\n",
      "Pipeline versus logit\n",
      "Average improvement: 0.0848\n",
      "p=0.011\n",
      "\n",
      "Iteration: 500\n",
      "Pipeline versus baseline\n",
      "Average improvement: 0.2921\n",
      "p=0.000\n",
      "Pipeline versus logit\n",
      "Average improvement: 0.0851\n",
      "p=0.010\n",
      "\n",
      "Iteration: 550\n",
      "Pipeline versus baseline\n",
      "Average improvement: 0.2923\n",
      "p=0.000\n",
      "Pipeline versus logit\n",
      "Average improvement: 0.0854\n",
      "p=0.009\n",
      "\n",
      "Iteration: 600\n",
      "Pipeline versus baseline\n",
      "Average improvement: 0.2922\n",
      "p=0.000\n",
      "Pipeline versus logit\n",
      "Average improvement: 0.0859\n",
      "p=0.008\n",
      "\n",
      "Iteration: 650\n",
      "Pipeline versus baseline\n",
      "Average improvement: 0.2927\n",
      "p=0.000\n",
      "Pipeline versus logit\n",
      "Average improvement: 0.0857\n",
      "p=0.008\n",
      "\n",
      "Iteration: 700\n",
      "Pipeline versus baseline\n",
      "Average improvement: 0.2917\n",
      "p=0.000\n",
      "Pipeline versus logit\n",
      "Average improvement: 0.0860\n",
      "p=0.010\n",
      "\n",
      "Iteration: 750\n",
      "Pipeline versus baseline\n",
      "Average improvement: 0.2920\n",
      "p=0.000\n",
      "Pipeline versus logit\n",
      "Average improvement: 0.0867\n",
      "p=0.011\n",
      "\n",
      "Iteration: 800\n",
      "Pipeline versus baseline\n",
      "Average improvement: 0.2929\n",
      "p=0.000\n",
      "Pipeline versus logit\n",
      "Average improvement: 0.0877\n",
      "p=0.010\n",
      "\n",
      "Iteration: 850\n",
      "Pipeline versus baseline\n",
      "Average improvement: 0.2922\n",
      "p=0.000\n",
      "Pipeline versus logit\n",
      "Average improvement: 0.0873\n",
      "p=0.009\n",
      "\n",
      "Iteration: 900\n",
      "Pipeline versus baseline\n",
      "Average improvement: 0.2913\n",
      "p=0.000\n",
      "Pipeline versus logit\n",
      "Average improvement: 0.0874\n",
      "p=0.009\n",
      "\n",
      "Iteration: 950\n",
      "Pipeline versus baseline\n",
      "Average improvement: 0.2913\n",
      "p=0.000\n",
      "Pipeline versus logit\n",
      "Average improvement: 0.0874\n",
      "p=0.008\n",
      "\n",
      "Final results\n",
      "Pipeline versus baseline\n",
      "Average improvement: 0.2913\n",
      "p=0.000\n",
      "Pipeline versus logit\n",
      "Average improvement: 0.0875\n",
      "p=0.009\n"
     ]
    }
   ],
   "source": [
    "BOOTSTRAP_SAMPLES = 1000\n",
    "\n",
    "def compute_improvement():\n",
    "    X_b, CRT_b, y_b = resample(X, CRT, y)\n",
    "    scores = get_xval_scores(X_b, CRT_b, y_b)\n",
    "    return scores['pipeline']/scores['base'] - 1, scores['pipeline']/scores['logit'] - 1\n",
    "\n",
    "def print_improvement(a):\n",
    "    a = np.array(a)\n",
    "    print('Average improvement: {:.4f}'.format(a.mean()))\n",
    "    print('p={:.3f}'.format((a<=0).mean()))\n",
    "\n",
    "pipe_v_base, pipe_v_logit = [], []\n",
    "for i in range(BOOTSTRAP_SAMPLES):\n",
    "    improvement = compute_improvement()\n",
    "    pipe_v_base.append(improvement[0])\n",
    "    pipe_v_logit.append(improvement[1])\n",
    "    if i % 50 == 0:\n",
    "        print('\\nIteration: {}'.format(i))\n",
    "        print('Pipeline versus baseline')\n",
    "        print_improvement(pipe_v_base)\n",
    "        print('Pipeline versus logit')\n",
    "        print_improvement(pipe_v_logit)\n",
    " \n",
    "print('\\nFinal results')\n",
    "print('Pipeline versus baseline')\n",
    "print_improvement(pipe_v_base)\n",
    "print('Pipeline versus logit')\n",
    "print_improvement(pipe_v_logit)"
   ]
  },
  {
   "cell_type": "code",
   "execution_count": 9,
   "metadata": {
    "ExecuteTime": {
     "end_time": "2020-08-26T20:31:37.867978Z",
     "start_time": "2020-08-26T20:31:37.135728Z"
    }
   },
   "outputs": [
    {
     "name": "stdout",
     "output_type": "stream",
     "text": [
      "Bootstrapped mean improvement: 0.087\n",
      "Bootstrapped 95% CI: 0.019, 0.160\n",
      "p=0.009\n"
     ]
    },
    {
     "data": {
      "image/png": "[encoded data removed]",
      "text/plain": [
       "<Figure size 432x288 with 1 Axes>"
      ]
     },
     "metadata": {
      "needs_background": "light"
     },
     "output_type": "display_data"
    }
   ],
   "source": [
    "pct_improvement = np.array(pipe_v_logit)\n",
    "print('Bootstrapped mean improvement: {:.3f}'.format(pct_improvement.mean()))\n",
    "print('Bootstrapped 95% CI: {:.3f}, {:.3f}'.format(\n",
    "    np.quantile(pct_improvement, .05), np.quantile(pct_improvement, .95)\n",
    "))\n",
    "print('p={:.3f}'.format((pct_improvement<=0).mean()))\n",
    "sns.distplot(pct_improvement, axlabel='Percent improvement')\n",
    "if PLOTS_DIR is not None:\n",
    "    plt.savefig(os.path.join(PLOTS_DIR, 'CRT_improvement.png'), bbox_inches='tight')\n",
    "plt.show()"
   ]
  },
  {
   "cell_type": "code",
   "execution_count": 10,
   "metadata": {
    "ExecuteTime": {
     "end_time": "2020-08-26T20:31:38.138681Z",
     "start_time": "2020-08-26T20:31:37.870755Z"
    }
   },
   "outputs": [
    {
     "name": "stdout",
     "output_type": "stream",
     "text": [
      "Pipeline training accuracy: 0.673\n"
     ]
    }
   ],
   "source": [
    "pipeline_clf.fit(X, y)\n",
    "print('Pipeline training accuracy: {:.3f}'.format(pipeline_clf.score(X, y)))"
   ]
  },
  {
   "cell_type": "code",
   "execution_count": 11,
   "metadata": {
    "ExecuteTime": {
     "end_time": "2020-08-26T20:31:38.168090Z",
     "start_time": "2020-08-26T20:31:38.142239Z"
    }
   },
   "outputs": [],
   "source": [
    "def model(X, predict_proba=False):\n",
    "    X = pd.DataFrame(X, columns=X_cols)\n",
    "    X = pd.get_dummies(X, columns=['school', 'Sex', 'RACE', 'Prestige'])\n",
    "    X['CRT'] = X[['batball', 'widgets', 'lilypads']].sum(axis=1)\n",
    "    X = X.drop(columns='Sex_Female')\n",
    "    if predict_proba:\n",
    "        return pipeline_clf.predict_proba(X)[:,1]\n",
    "    return pipeline_clf.predict(X)\n",
    "\n",
    "df = pd.read_csv('CRT_nodummies.csv')\n",
    "X = df.drop(columns=y_var)\n",
    "X_cols = [col for col in df.columns if col != y_var]"
   ]
  },
  {
   "cell_type": "code",
   "execution_count": 12,
   "metadata": {
    "ExecuteTime": {
     "end_time": "2020-08-26T20:33:48.120781Z",
     "start_time": "2020-08-26T20:31:38.170598Z"
    }
   },
   "outputs": [],
   "source": [
    "g = lambda y_pred: accuracy_score(y, y_pred)\n",
    "explainer = gshap.KernelExplainer(model, X, g)\n",
    "gshap_values = explainer.gshap_values(X, nsamples=100)"
   ]
  },
  {
   "cell_type": "code",
   "execution_count": 13,
   "metadata": {
    "ExecuteTime": {
     "end_time": "2020-08-26T20:33:52.794977Z",
     "start_time": "2020-08-26T20:33:48.123464Z"
    }
   },
   "outputs": [
    {
     "name": "stdout",
     "output_type": "stream",
     "text": [
      "Training accuracy: 0.6730\n",
      "Accuracy with shuffled training data: 0.5009\n",
      "Sum of G-SHAP values: 0.1725\n"
     ]
    }
   ],
   "source": [
    "g_comparison, g_background = explainer.compare(X, bootstrap_samples=100)\n",
    "print('Training accuracy: {:.4f}'.format(g_comparison))\n",
    "print('Accuracy with shuffled training data: {:.4f}'.format(g_background))\n",
    "print('Sum of G-SHAP values: {:.4f}'.format(gshap_values.sum()))"
   ]
  },
  {
   "cell_type": "code",
   "execution_count": 14,
   "metadata": {
    "ExecuteTime": {
     "end_time": "2020-08-26T20:33:53.497364Z",
     "start_time": "2020-08-26T20:33:52.797693Z"
    }
   },
   "outputs": [
    {
     "data": {
      "image/png": "[encoded data removed]",
      "text/plain": [
       "<Figure size 432x288 with 1 Axes>"
      ]
     },
     "metadata": {
      "needs_background": "light"
     },
     "output_type": "display_data"
    }
   ],
   "source": [
    "gshap_df = pd.DataFrame({'Features': X_cols, 'G-SHAP': gshap_values})\n",
    "gshap_df = gshap_df.sort_values('G-SHAP', ascending=False)\n",
    "sns.barplot(y='Features', x='G-SHAP', data=gshap_df)\n",
    "if PLOTS_DIR is not None:\n",
    "    plt.savefig(os.path.join(PLOTS_DIR, 'CRT_gshap.png'), bbox_inches='tight')\n",
    "plt.show()"
   ]
  },
  {
   "cell_type": "code",
   "execution_count": 15,
   "metadata": {
    "ExecuteTime": {
     "end_time": "2020-08-26T20:33:53.512047Z",
     "start_time": "2020-08-26T20:33:53.499506Z"
    }
   },
   "outputs": [
    {
     "data": {
      "text/html": [
       "<div>\n",
       "<style scoped>\n",
       "    .dataframe tbody tr th:only-of-type {\n",
       "        vertical-align: middle;\n",
       "    }\n",
       "\n",
       "    .dataframe tbody tr th {\n",
       "        vertical-align: top;\n",
       "    }\n",
       "\n",
       "    .dataframe thead th {\n",
       "        text-align: right;\n",
       "    }\n",
       "</style>\n",
       "<table border=\"1\" class=\"dataframe\">\n",
       "  <thead>\n",
       "    <tr style=\"text-align: right;\">\n",
       "      <th></th>\n",
       "      <th>Features</th>\n",
       "      <th>G-SHAP</th>\n",
       "    </tr>\n",
       "  </thead>\n",
       "  <tbody>\n",
       "    <tr>\n",
       "      <th>0</th>\n",
       "      <td>ACT</td>\n",
       "      <td>0.056257</td>\n",
       "    </tr>\n",
       "    <tr>\n",
       "      <th>1</th>\n",
       "      <td>IQ</td>\n",
       "      <td>0.044764</td>\n",
       "    </tr>\n",
       "    <tr>\n",
       "      <th>2</th>\n",
       "      <td>lilypads</td>\n",
       "      <td>0.016333</td>\n",
       "    </tr>\n",
       "    <tr>\n",
       "      <th>3</th>\n",
       "      <td>batball</td>\n",
       "      <td>0.012798</td>\n",
       "    </tr>\n",
       "    <tr>\n",
       "      <th>4</th>\n",
       "      <td>giftwrap</td>\n",
       "      <td>0.009660</td>\n",
       "    </tr>\n",
       "    <tr>\n",
       "      <th>5</th>\n",
       "      <td>Jerry</td>\n",
       "      <td>0.007316</td>\n",
       "    </tr>\n",
       "    <tr>\n",
       "      <th>6</th>\n",
       "      <td>Sex</td>\n",
       "      <td>0.006106</td>\n",
       "    </tr>\n",
       "    <tr>\n",
       "      <th>7</th>\n",
       "      <td>water</td>\n",
       "      <td>0.005766</td>\n",
       "    </tr>\n",
       "    <tr>\n",
       "      <th>8</th>\n",
       "      <td>widgets</td>\n",
       "      <td>0.005123</td>\n",
       "    </tr>\n",
       "    <tr>\n",
       "      <th>9</th>\n",
       "      <td>trucks</td>\n",
       "      <td>0.004688</td>\n",
       "    </tr>\n",
       "    <tr>\n",
       "      <th>10</th>\n",
       "      <td>3flips</td>\n",
       "      <td>0.003705</td>\n",
       "    </tr>\n",
       "    <tr>\n",
       "      <th>11</th>\n",
       "      <td>school</td>\n",
       "      <td>0.000000</td>\n",
       "    </tr>\n",
       "    <tr>\n",
       "      <th>12</th>\n",
       "      <td>RACE</td>\n",
       "      <td>0.000000</td>\n",
       "    </tr>\n",
       "    <tr>\n",
       "      <th>13</th>\n",
       "      <td>Prestige</td>\n",
       "      <td>0.000000</td>\n",
       "    </tr>\n",
       "  </tbody>\n",
       "</table>\n",
       "</div>"
      ],
      "text/plain": [
       "    Features    G-SHAP\n",
       "0        ACT  0.056257\n",
       "1         IQ  0.044764\n",
       "2   lilypads  0.016333\n",
       "3    batball  0.012798\n",
       "4   giftwrap  0.009660\n",
       "5      Jerry  0.007316\n",
       "6        Sex  0.006106\n",
       "7      water  0.005766\n",
       "8    widgets  0.005123\n",
       "9     trucks  0.004688\n",
       "10    3flips  0.003705\n",
       "11    school  0.000000\n",
       "12      RACE  0.000000\n",
       "13  Prestige  0.000000"
      ]
     },
     "execution_count": 15,
     "metadata": {},
     "output_type": "execute_result"
    }
   ],
   "source": [
    "gshap_df.reset_index(drop=True)"
   ]
  },
  {
   "cell_type": "code",
   "execution_count": 16,
   "metadata": {
    "ExecuteTime": {
     "end_time": "2020-08-26T20:33:53.555442Z",
     "start_time": "2020-08-26T20:33:53.514254Z"
    }
   },
   "outputs": [
    {
     "name": "stdout",
     "output_type": "stream",
     "text": [
      "Sum of G-SHAP values for CRT items: 0.0654\n"
     ]
    }
   ],
   "source": [
    "CRT_cols = ['Jerry', 'batball', 'lilypads', 'water', 'widgets', 'trucks', '3flips', 'giftwrap']\n",
    "CRT_gshap = gshap_df[gshap_df['Features'].isin(CRT_cols)].sum()\n",
    "print('Sum of G-SHAP values for CRT items: {:.4f}'.format(CRT_gshap[1]))"
   ]
  },
  {
   "cell_type": "code",
   "execution_count": 17,
   "metadata": {
    "ExecuteTime": {
     "end_time": "2020-08-26T20:36:06.926575Z",
     "start_time": "2020-08-26T20:33:53.557721Z"
    }
   },
   "outputs": [],
   "source": [
    "predict_proba = partial(model, predict_proba=True)\n",
    "\n",
    "CRT = df[CRT_cols].sum(axis=1)\n",
    "g = lambda output: np.corrcoef(output, CRT)[0][1]\n",
    "explainer = gshap.KernelExplainer(predict_proba, X, g)\n",
    "gshap_values = explainer.gshap_values(X, nsamples=100)\n",
    "gshap_values *= np.corrcoef(y, CRT)[0][1]"
   ]
  },
  {
   "cell_type": "code",
   "execution_count": 18,
   "metadata": {
    "ExecuteTime": {
     "end_time": "2020-08-26T20:36:07.701911Z",
     "start_time": "2020-08-26T20:36:06.934060Z"
    }
   },
   "outputs": [
    {
     "data": {
      "image/png": "[encoded data removed]",
      "text/plain": [
       "<Figure size 432x288 with 1 Axes>"
      ]
     },
     "metadata": {
      "needs_background": "light"
     },
     "output_type": "display_data"
    }
   ],
   "source": [
    "gshap_df = pd.DataFrame({'Features': X_cols, 'G-SHAP': gshap_values})\n",
    "gshap_df = gshap_df.sort_values('G-SHAP', ascending=False)\n",
    "sns.barplot(y='Features', x='G-SHAP', data=gshap_df)\n",
    "if PLOTS_DIR is not None:\n",
    "    plt.savefig(os.path.join(PLOTS_DIR, 'CRT_corr_gshap.png'), bbox_inches='tight')\n",
    "plt.show()"
   ]
  },
  {
   "cell_type": "code",
   "execution_count": 19,
   "metadata": {
    "ExecuteTime": {
     "end_time": "2020-08-26T20:36:07.720493Z",
     "start_time": "2020-08-26T20:36:07.706938Z"
    }
   },
   "outputs": [
    {
     "data": {
      "text/html": [
       "<div>\n",
       "<style scoped>\n",
       "    .dataframe tbody tr th:only-of-type {\n",
       "        vertical-align: middle;\n",
       "    }\n",
       "\n",
       "    .dataframe tbody tr th {\n",
       "        vertical-align: top;\n",
       "    }\n",
       "\n",
       "    .dataframe thead th {\n",
       "        text-align: right;\n",
       "    }\n",
       "</style>\n",
       "<table border=\"1\" class=\"dataframe\">\n",
       "  <thead>\n",
       "    <tr style=\"text-align: right;\">\n",
       "      <th></th>\n",
       "      <th>Features</th>\n",
       "      <th>G-SHAP</th>\n",
       "    </tr>\n",
       "  </thead>\n",
       "  <tbody>\n",
       "    <tr>\n",
       "      <th>0</th>\n",
       "      <td>IQ</td>\n",
       "      <td>0.072358</td>\n",
       "    </tr>\n",
       "    <tr>\n",
       "      <th>1</th>\n",
       "      <td>ACT</td>\n",
       "      <td>0.050293</td>\n",
       "    </tr>\n",
       "    <tr>\n",
       "      <th>2</th>\n",
       "      <td>lilypads</td>\n",
       "      <td>0.023820</td>\n",
       "    </tr>\n",
       "    <tr>\n",
       "      <th>3</th>\n",
       "      <td>widgets</td>\n",
       "      <td>0.016096</td>\n",
       "    </tr>\n",
       "    <tr>\n",
       "      <th>4</th>\n",
       "      <td>batball</td>\n",
       "      <td>0.015149</td>\n",
       "    </tr>\n",
       "    <tr>\n",
       "      <th>5</th>\n",
       "      <td>giftwrap</td>\n",
       "      <td>0.010414</td>\n",
       "    </tr>\n",
       "    <tr>\n",
       "      <th>6</th>\n",
       "      <td>Jerry</td>\n",
       "      <td>0.010032</td>\n",
       "    </tr>\n",
       "    <tr>\n",
       "      <th>7</th>\n",
       "      <td>water</td>\n",
       "      <td>0.008160</td>\n",
       "    </tr>\n",
       "    <tr>\n",
       "      <th>8</th>\n",
       "      <td>trucks</td>\n",
       "      <td>0.007883</td>\n",
       "    </tr>\n",
       "    <tr>\n",
       "      <th>9</th>\n",
       "      <td>3flips</td>\n",
       "      <td>0.006652</td>\n",
       "    </tr>\n",
       "    <tr>\n",
       "      <th>10</th>\n",
       "      <td>Sex</td>\n",
       "      <td>0.004387</td>\n",
       "    </tr>\n",
       "    <tr>\n",
       "      <th>11</th>\n",
       "      <td>school</td>\n",
       "      <td>0.000000</td>\n",
       "    </tr>\n",
       "    <tr>\n",
       "      <th>12</th>\n",
       "      <td>RACE</td>\n",
       "      <td>0.000000</td>\n",
       "    </tr>\n",
       "    <tr>\n",
       "      <th>13</th>\n",
       "      <td>Prestige</td>\n",
       "      <td>0.000000</td>\n",
       "    </tr>\n",
       "  </tbody>\n",
       "</table>\n",
       "</div>"
      ],
      "text/plain": [
       "    Features    G-SHAP\n",
       "0         IQ  0.072358\n",
       "1        ACT  0.050293\n",
       "2   lilypads  0.023820\n",
       "3    widgets  0.016096\n",
       "4    batball  0.015149\n",
       "5   giftwrap  0.010414\n",
       "6      Jerry  0.010032\n",
       "7      water  0.008160\n",
       "8     trucks  0.007883\n",
       "9     3flips  0.006652\n",
       "10       Sex  0.004387\n",
       "11    school  0.000000\n",
       "12      RACE  0.000000\n",
       "13  Prestige  0.000000"
      ]
     },
     "execution_count": 19,
     "metadata": {},
     "output_type": "execute_result"
    }
   ],
   "source": [
    "gshap_df.reset_index(drop=True)"
   ]
  },
  {
   "cell_type": "code",
   "execution_count": 20,
   "metadata": {
    "ExecuteTime": {
     "end_time": "2020-08-26T20:36:07.736003Z",
     "start_time": "2020-08-26T20:36:07.722762Z"
    }
   },
   "outputs": [
    {
     "name": "stdout",
     "output_type": "stream",
     "text": [
      "Sum of G-SHAP values for CRT items: 0.0982\n"
     ]
    }
   ],
   "source": [
    "CRT_gshap = gshap_df[gshap_df['Features'].isin(CRT_cols)].sum()\n",
    "print('Sum of G-SHAP values for CRT items: {:.4f}'.format(CRT_gshap[1]))"
   ]
  },
  {
   "cell_type": "code",
   "execution_count": null,
   "metadata": {},
   "outputs": [],
   "source": []
  }
 ],
 "metadata": {
  "kernelspec": {
   "display_name": "crt",
   "language": "python",
   "name": "crt"
  },
  "language_info": {
   "codemirror_mode": {
    "name": "ipython",
    "version": 3
   },
   "file_extension": ".py",
   "mimetype": "text/x-python",
   "name": "python",
   "nbconvert_exporter": "python",
   "pygments_lexer": "ipython3",
   "version": "3.6.8"
  },
  "toc": {
   "base_numbering": 1,
   "nav_menu": {},
   "number_sections": true,
   "sideBar": true,
   "skip_h1_title": false,
   "title_cell": "Table of Contents",
   "title_sidebar": "Contents",
   "toc_cell": false,
   "toc_position": {},
   "toc_section_display": true,
   "toc_window_display": false
  },
  "varInspector": {
   "cols": {
    "lenName": 16,
    "lenType": 16,
    "lenVar": 40
   },
   "kernels_config": {
    "python": {
     "delete_cmd_postfix": "",
     "delete_cmd_prefix": "del ",
     "library": "var_list.py",
     "varRefreshCmd": "print(var_dic_list())"
    },
    "r": {
     "delete_cmd_postfix": ") ",
     "delete_cmd_prefix": "rm(",
     "library": "var_list.r",
     "varRefreshCmd": "cat(var_dic_list()) "
    }
   },
   "types_to_exclude": [
    "module",
    "function",
    "builtin_function_or_method",
    "instance",
    "_Feature"
   ],
   "window_display": false
  }
 },
 "nbformat": 4,
 "nbformat_minor": 4
}
