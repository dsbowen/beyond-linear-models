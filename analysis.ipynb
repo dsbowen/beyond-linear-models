{
 "cells": [
  {
   "cell_type": "markdown",
   "metadata": {},
   "source": [
    "Models:\n",
    "\n",
    "- Baseline\n",
    "- Regression on one-hot encoded 3-item CRT\n",
    "- ML\n",
    "\n",
    "Metrics:\n",
    "\n",
    "- ROC AUC\n",
    "- Precision-Recall AUC\n",
    "- Balanced accuracy\n",
    "\n",
    "Sections:\n",
    "\n",
    "- Summary stats\n",
    "- ML beats linear model\n",
    "    - x-val\n",
    "    - training\n",
    "    - bootstrapped x-val\n",
    "- Correlation explanation\n",
    "- Intergroup difference\n",
    "- Feature importance"
   ]
  },
  {
   "cell_type": "code",
   "execution_count": 1,
   "metadata": {
    "ExecuteTime": {
     "end_time": "2020-08-31T22:05:15.372991Z",
     "start_time": "2020-08-31T22:05:13.785981Z"
    }
   },
   "outputs": [],
   "source": [
    "import warnings\n",
    "warnings.simplefilter('ignore')\n",
    "\n",
    "import gshap\n",
    "import pandas as pd\n",
    "import matplotlib.pyplot as plt\n",
    "import numpy as np\n",
    "import seaborn as sns\n",
    "from sklearn.cluster import FeatureAgglomeration\n",
    "from sklearn.ensemble import ExtraTreesClassifier\n",
    "from sklearn.linear_model import LogisticRegression as LogisticRegressionBase, SGDClassifier\n",
    "from sklearn.metrics import accuracy_score, f1_score, roc_auc_score, roc_curve\n",
    "from sklearn.model_selection import KFold\n",
    "from sklearn.neural_network import MLPClassifier\n",
    "from sklearn.pipeline import make_pipeline, make_union\n",
    "from sklearn.utils import resample\n",
    "from tpot.builtins import StackingEstimator\n",
    "\n",
    "import os\n",
    "import random\n",
    "from copy import copy\n",
    "from datetime import datetime\n",
    "from functools import partial\n",
    "\n",
    "random.seed(0)\n",
    "np.random.seed(0)\n",
    "\n",
    "sns.set(color_codes=True)\n",
    "\n",
    "PLOTS_DIR = 'plots'"
   ]
  },
  {
   "cell_type": "markdown",
   "metadata": {},
   "source": [
    "## Summary statistics"
   ]
  },
  {
   "cell_type": "code",
   "execution_count": 2,
   "metadata": {
    "ExecuteTime": {
     "end_time": "2020-08-31T22:05:15.420513Z",
     "start_time": "2020-08-31T22:05:15.375054Z"
    }
   },
   "outputs": [
    {
     "data": {
      "text/html": [
       "<div>\n",
       "<style scoped>\n",
       "    .dataframe tbody tr th:only-of-type {\n",
       "        vertical-align: middle;\n",
       "    }\n",
       "\n",
       "    .dataframe tbody tr th {\n",
       "        vertical-align: top;\n",
       "    }\n",
       "\n",
       "    .dataframe thead th {\n",
       "        text-align: right;\n",
       "    }\n",
       "</style>\n",
       "<table border=\"1\" class=\"dataframe\">\n",
       "  <thead>\n",
       "    <tr style=\"text-align: right;\">\n",
       "      <th></th>\n",
       "      <th>ACT</th>\n",
       "      <th>batball</th>\n",
       "      <th>3flips</th>\n",
       "      <th>widgets</th>\n",
       "      <th>trucks</th>\n",
       "      <th>lilypads</th>\n",
       "      <th>water</th>\n",
       "      <th>giftwrap</th>\n",
       "      <th>Jerry</th>\n",
       "      <th>IQ</th>\n",
       "      <th>...</th>\n",
       "      <th>school_UM (dearborn)</th>\n",
       "      <th>Sex_Male</th>\n",
       "      <th>RACE_Asian</th>\n",
       "      <th>RACE_Black</th>\n",
       "      <th>RACE_Latino</th>\n",
       "      <th>RACE_Other</th>\n",
       "      <th>RACE_White</th>\n",
       "      <th>Prestige_low</th>\n",
       "      <th>Prestige_middle</th>\n",
       "      <th>CRT</th>\n",
       "    </tr>\n",
       "  </thead>\n",
       "  <tbody>\n",
       "    <tr>\n",
       "      <th>0</th>\n",
       "      <td>26.0</td>\n",
       "      <td>0</td>\n",
       "      <td>0.0</td>\n",
       "      <td>0.0</td>\n",
       "      <td>0.0</td>\n",
       "      <td>0.0</td>\n",
       "      <td>0.0</td>\n",
       "      <td>1.0</td>\n",
       "      <td>0.0</td>\n",
       "      <td>1.0</td>\n",
       "      <td>...</td>\n",
       "      <td>1</td>\n",
       "      <td>0</td>\n",
       "      <td>0</td>\n",
       "      <td>0</td>\n",
       "      <td>0</td>\n",
       "      <td>0</td>\n",
       "      <td>1</td>\n",
       "      <td>1</td>\n",
       "      <td>0</td>\n",
       "      <td>0.0</td>\n",
       "    </tr>\n",
       "    <tr>\n",
       "      <th>1</th>\n",
       "      <td>23.0</td>\n",
       "      <td>1</td>\n",
       "      <td>0.0</td>\n",
       "      <td>0.0</td>\n",
       "      <td>0.0</td>\n",
       "      <td>1.0</td>\n",
       "      <td>0.0</td>\n",
       "      <td>1.0</td>\n",
       "      <td>1.0</td>\n",
       "      <td>4.0</td>\n",
       "      <td>...</td>\n",
       "      <td>1</td>\n",
       "      <td>0</td>\n",
       "      <td>0</td>\n",
       "      <td>1</td>\n",
       "      <td>0</td>\n",
       "      <td>0</td>\n",
       "      <td>0</td>\n",
       "      <td>1</td>\n",
       "      <td>0</td>\n",
       "      <td>2.0</td>\n",
       "    </tr>\n",
       "    <tr>\n",
       "      <th>2</th>\n",
       "      <td>27.0</td>\n",
       "      <td>0</td>\n",
       "      <td>0.0</td>\n",
       "      <td>0.0</td>\n",
       "      <td>1.0</td>\n",
       "      <td>1.0</td>\n",
       "      <td>1.0</td>\n",
       "      <td>1.0</td>\n",
       "      <td>0.0</td>\n",
       "      <td>4.0</td>\n",
       "      <td>...</td>\n",
       "      <td>1</td>\n",
       "      <td>1</td>\n",
       "      <td>0</td>\n",
       "      <td>0</td>\n",
       "      <td>0</td>\n",
       "      <td>0</td>\n",
       "      <td>1</td>\n",
       "      <td>1</td>\n",
       "      <td>0</td>\n",
       "      <td>1.0</td>\n",
       "    </tr>\n",
       "    <tr>\n",
       "      <th>3</th>\n",
       "      <td>22.0</td>\n",
       "      <td>0</td>\n",
       "      <td>0.0</td>\n",
       "      <td>0.0</td>\n",
       "      <td>0.0</td>\n",
       "      <td>0.0</td>\n",
       "      <td>0.0</td>\n",
       "      <td>0.0</td>\n",
       "      <td>0.0</td>\n",
       "      <td>0.0</td>\n",
       "      <td>...</td>\n",
       "      <td>1</td>\n",
       "      <td>1</td>\n",
       "      <td>0</td>\n",
       "      <td>1</td>\n",
       "      <td>0</td>\n",
       "      <td>0</td>\n",
       "      <td>0</td>\n",
       "      <td>1</td>\n",
       "      <td>0</td>\n",
       "      <td>0.0</td>\n",
       "    </tr>\n",
       "    <tr>\n",
       "      <th>4</th>\n",
       "      <td>31.0</td>\n",
       "      <td>1</td>\n",
       "      <td>1.0</td>\n",
       "      <td>1.0</td>\n",
       "      <td>1.0</td>\n",
       "      <td>1.0</td>\n",
       "      <td>1.0</td>\n",
       "      <td>1.0</td>\n",
       "      <td>1.0</td>\n",
       "      <td>8.0</td>\n",
       "      <td>...</td>\n",
       "      <td>1</td>\n",
       "      <td>1</td>\n",
       "      <td>0</td>\n",
       "      <td>0</td>\n",
       "      <td>0</td>\n",
       "      <td>1</td>\n",
       "      <td>0</td>\n",
       "      <td>1</td>\n",
       "      <td>0</td>\n",
       "      <td>3.0</td>\n",
       "    </tr>\n",
       "  </tbody>\n",
       "</table>\n",
       "<p>5 rows × 25 columns</p>\n",
       "</div>"
      ],
      "text/plain": [
       "    ACT  batball  3flips  widgets  trucks  lilypads  water  giftwrap  Jerry  \\\n",
       "0  26.0        0     0.0      0.0     0.0       0.0    0.0       1.0    0.0   \n",
       "1  23.0        1     0.0      0.0     0.0       1.0    0.0       1.0    1.0   \n",
       "2  27.0        0     0.0      0.0     1.0       1.0    1.0       1.0    0.0   \n",
       "3  22.0        0     0.0      0.0     0.0       0.0    0.0       0.0    0.0   \n",
       "4  31.0        1     1.0      1.0     1.0       1.0    1.0       1.0    1.0   \n",
       "\n",
       "    IQ  ...  school_UM (dearborn)  Sex_Male  RACE_Asian  RACE_Black  \\\n",
       "0  1.0  ...                     1         0           0           0   \n",
       "1  4.0  ...                     1         0           0           1   \n",
       "2  4.0  ...                     1         1           0           0   \n",
       "3  0.0  ...                     1         1           0           1   \n",
       "4  8.0  ...                     1         1           0           0   \n",
       "\n",
       "   RACE_Latino  RACE_Other  RACE_White  Prestige_low  Prestige_middle  CRT  \n",
       "0            0           0           1             1                0  0.0  \n",
       "1            0           0           0             1                0  2.0  \n",
       "2            0           0           1             1                0  1.0  \n",
       "3            0           0           0             1                0  0.0  \n",
       "4            0           1           0             1                0  3.0  \n",
       "\n",
       "[5 rows x 25 columns]"
      ]
     },
     "execution_count": 2,
     "metadata": {},
     "output_type": "execute_result"
    }
   ],
   "source": [
    "df = pd.read_csv('CRT_clean.csv')\n",
    "df.head()"
   ]
  },
  {
   "cell_type": "code",
   "execution_count": 3,
   "metadata": {
    "ExecuteTime": {
     "end_time": "2020-08-31T22:05:15.428588Z",
     "start_time": "2020-08-31T22:05:15.423563Z"
    }
   },
   "outputs": [
    {
     "name": "stdout",
     "output_type": "stream",
     "text": [
      "Numer of observations: 529\n",
      "Number of features: 24\n"
     ]
    }
   ],
   "source": [
    "n, p = df.shape\n",
    "print('Numer of observations: {}'.format(n))\n",
    "print('Number of features: {}'.format(p-1)) # 1 column is the label, so # features = p-1"
   ]
  },
  {
   "cell_type": "code",
   "execution_count": 4,
   "metadata": {
    "ExecuteTime": {
     "end_time": "2020-08-31T22:05:15.487082Z",
     "start_time": "2020-08-31T22:05:15.431320Z"
    }
   },
   "outputs": [
    {
     "data": {
      "text/html": [
       "<div>\n",
       "<style scoped>\n",
       "    .dataframe tbody tr th:only-of-type {\n",
       "        vertical-align: middle;\n",
       "    }\n",
       "\n",
       "    .dataframe tbody tr th {\n",
       "        vertical-align: top;\n",
       "    }\n",
       "\n",
       "    .dataframe thead th {\n",
       "        text-align: right;\n",
       "    }\n",
       "</style>\n",
       "<table border=\"1\" class=\"dataframe\">\n",
       "  <thead>\n",
       "    <tr style=\"text-align: right;\">\n",
       "      <th></th>\n",
       "      <th>CRT</th>\n",
       "      <th>ACT</th>\n",
       "      <th>IQ</th>\n",
       "      <th>Sex_Male</th>\n",
       "      <th>3.4K v 3.8K(2)</th>\n",
       "    </tr>\n",
       "  </thead>\n",
       "  <tbody>\n",
       "    <tr>\n",
       "      <th>count</th>\n",
       "      <td>529.000000</td>\n",
       "      <td>529.000000</td>\n",
       "      <td>529.000000</td>\n",
       "      <td>529.000000</td>\n",
       "      <td>529.000000</td>\n",
       "    </tr>\n",
       "    <tr>\n",
       "      <th>mean</th>\n",
       "      <td>0.903592</td>\n",
       "      <td>26.338374</td>\n",
       "      <td>2.510397</td>\n",
       "      <td>0.504726</td>\n",
       "      <td>0.489603</td>\n",
       "    </tr>\n",
       "    <tr>\n",
       "      <th>std</th>\n",
       "      <td>0.973205</td>\n",
       "      <td>3.978739</td>\n",
       "      <td>2.134756</td>\n",
       "      <td>0.500451</td>\n",
       "      <td>0.500365</td>\n",
       "    </tr>\n",
       "    <tr>\n",
       "      <th>min</th>\n",
       "      <td>0.000000</td>\n",
       "      <td>15.000000</td>\n",
       "      <td>0.000000</td>\n",
       "      <td>0.000000</td>\n",
       "      <td>0.000000</td>\n",
       "    </tr>\n",
       "    <tr>\n",
       "      <th>25%</th>\n",
       "      <td>0.000000</td>\n",
       "      <td>24.000000</td>\n",
       "      <td>1.000000</td>\n",
       "      <td>0.000000</td>\n",
       "      <td>0.000000</td>\n",
       "    </tr>\n",
       "    <tr>\n",
       "      <th>50%</th>\n",
       "      <td>1.000000</td>\n",
       "      <td>27.000000</td>\n",
       "      <td>2.000000</td>\n",
       "      <td>1.000000</td>\n",
       "      <td>0.000000</td>\n",
       "    </tr>\n",
       "    <tr>\n",
       "      <th>75%</th>\n",
       "      <td>2.000000</td>\n",
       "      <td>29.000000</td>\n",
       "      <td>4.000000</td>\n",
       "      <td>1.000000</td>\n",
       "      <td>1.000000</td>\n",
       "    </tr>\n",
       "    <tr>\n",
       "      <th>max</th>\n",
       "      <td>3.000000</td>\n",
       "      <td>36.000000</td>\n",
       "      <td>8.000000</td>\n",
       "      <td>1.000000</td>\n",
       "      <td>1.000000</td>\n",
       "    </tr>\n",
       "  </tbody>\n",
       "</table>\n",
       "</div>"
      ],
      "text/plain": [
       "              CRT         ACT          IQ    Sex_Male  3.4K v 3.8K(2)\n",
       "count  529.000000  529.000000  529.000000  529.000000      529.000000\n",
       "mean     0.903592   26.338374    2.510397    0.504726        0.489603\n",
       "std      0.973205    3.978739    2.134756    0.500451        0.500365\n",
       "min      0.000000   15.000000    0.000000    0.000000        0.000000\n",
       "25%      0.000000   24.000000    1.000000    0.000000        0.000000\n",
       "50%      1.000000   27.000000    2.000000    1.000000        0.000000\n",
       "75%      2.000000   29.000000    4.000000    1.000000        1.000000\n",
       "max      3.000000   36.000000    8.000000    1.000000        1.000000"
      ]
     },
     "execution_count": 4,
     "metadata": {},
     "output_type": "execute_result"
    }
   ],
   "source": [
    "df[['CRT', 'ACT', 'IQ', 'Sex_Male', '3.4K v 3.8K(2)']].describe()"
   ]
  },
  {
   "cell_type": "code",
   "execution_count": 5,
   "metadata": {
    "ExecuteTime": {
     "end_time": "2020-08-31T22:05:15.507228Z",
     "start_time": "2020-08-31T22:05:15.489357Z"
    }
   },
   "outputs": [
    {
     "data": {
      "text/html": [
       "<div>\n",
       "<style scoped>\n",
       "    .dataframe tbody tr th:only-of-type {\n",
       "        vertical-align: middle;\n",
       "    }\n",
       "\n",
       "    .dataframe tbody tr th {\n",
       "        vertical-align: top;\n",
       "    }\n",
       "\n",
       "    .dataframe thead th {\n",
       "        text-align: right;\n",
       "    }\n",
       "</style>\n",
       "<table border=\"1\" class=\"dataframe\">\n",
       "  <thead>\n",
       "    <tr style=\"text-align: right;\">\n",
       "      <th></th>\n",
       "      <th>CRT</th>\n",
       "      <th>ACT</th>\n",
       "      <th>IQ</th>\n",
       "      <th>Sex_Male</th>\n",
       "      <th>3.4K v 3.8K(2)</th>\n",
       "    </tr>\n",
       "  </thead>\n",
       "  <tbody>\n",
       "    <tr>\n",
       "      <th>CRT</th>\n",
       "      <td>1.000000</td>\n",
       "      <td>0.477019</td>\n",
       "      <td>0.845099</td>\n",
       "      <td>0.201203</td>\n",
       "      <td>0.233242</td>\n",
       "    </tr>\n",
       "    <tr>\n",
       "      <th>ACT</th>\n",
       "      <td>0.477019</td>\n",
       "      <td>1.000000</td>\n",
       "      <td>0.528836</td>\n",
       "      <td>0.083374</td>\n",
       "      <td>0.190611</td>\n",
       "    </tr>\n",
       "    <tr>\n",
       "      <th>IQ</th>\n",
       "      <td>0.845099</td>\n",
       "      <td>0.528836</td>\n",
       "      <td>1.000000</td>\n",
       "      <td>0.268974</td>\n",
       "      <td>0.260302</td>\n",
       "    </tr>\n",
       "    <tr>\n",
       "      <th>Sex_Male</th>\n",
       "      <td>0.201203</td>\n",
       "      <td>0.083374</td>\n",
       "      <td>0.268974</td>\n",
       "      <td>1.000000</td>\n",
       "      <td>0.062595</td>\n",
       "    </tr>\n",
       "    <tr>\n",
       "      <th>3.4K v 3.8K(2)</th>\n",
       "      <td>0.233242</td>\n",
       "      <td>0.190611</td>\n",
       "      <td>0.260302</td>\n",
       "      <td>0.062595</td>\n",
       "      <td>1.000000</td>\n",
       "    </tr>\n",
       "  </tbody>\n",
       "</table>\n",
       "</div>"
      ],
      "text/plain": [
       "                     CRT       ACT        IQ  Sex_Male  3.4K v 3.8K(2)\n",
       "CRT             1.000000  0.477019  0.845099  0.201203        0.233242\n",
       "ACT             0.477019  1.000000  0.528836  0.083374        0.190611\n",
       "IQ              0.845099  0.528836  1.000000  0.268974        0.260302\n",
       "Sex_Male        0.201203  0.083374  0.268974  1.000000        0.062595\n",
       "3.4K v 3.8K(2)  0.233242  0.190611  0.260302  0.062595        1.000000"
      ]
     },
     "execution_count": 5,
     "metadata": {},
     "output_type": "execute_result"
    }
   ],
   "source": [
    "df[['CRT', 'ACT', 'IQ', 'Sex_Male', '3.4K v 3.8K(2)']].corr()"
   ]
  },
  {
   "cell_type": "markdown",
   "metadata": {},
   "source": [
    "## Model performance and comparison"
   ]
  },
  {
   "cell_type": "code",
   "execution_count": 6,
   "metadata": {
    "ExecuteTime": {
     "end_time": "2020-08-31T22:05:15.518680Z",
     "start_time": "2020-08-31T22:05:15.512434Z"
    }
   },
   "outputs": [],
   "source": [
    "y_var = '3.4K v 3.8K(2)'\n",
    "X = df.drop(columns=y_var).to_numpy()\n",
    "y = df[y_var].to_numpy()"
   ]
  },
  {
   "cell_type": "code",
   "execution_count": 7,
   "metadata": {
    "ExecuteTime": {
     "end_time": "2020-08-31T22:05:15.531379Z",
     "start_time": "2020-08-31T22:05:15.521786Z"
    }
   },
   "outputs": [],
   "source": [
    "class Baseline():\n",
    "    def __init__(self, output=None):\n",
    "        self.output = output\n",
    "    \n",
    "    def fit(self, X, y):\n",
    "        self.output = y.mean()\n",
    "        return self\n",
    "        \n",
    "    def predict(self, X):\n",
    "        return round(self.output) * np.ones(shape=X.shape[0])\n",
    "    \n",
    "    def predict_proba(self, X):\n",
    "        return np.ones(shape=(X.shape[0], 1)) @ np.array([[1-self.output, self.output]])\n",
    "    \n",
    "    def get_params(self, *args, **kwargs):\n",
    "        return {'output': self.output}\n",
    "    \n",
    "base_clf = Baseline()"
   ]
  },
  {
   "cell_type": "code",
   "execution_count": 8,
   "metadata": {
    "ExecuteTime": {
     "end_time": "2020-08-31T22:05:15.546417Z",
     "start_time": "2020-08-31T22:05:15.534716Z"
    }
   },
   "outputs": [],
   "source": [
    "crt_col_idx = list(df.drop(columns=y_var).columns).index('CRT')\n",
    "\n",
    "class LogisticRegression(LogisticRegressionBase):\n",
    "    def fit(self, X, y):\n",
    "        return super().fit(self._get_X(X), y)\n",
    "        \n",
    "    def predict(self, X):\n",
    "        return super().predict(self._get_X(X))\n",
    "        \n",
    "    def predict_proba(self, X):\n",
    "        return super().predict_proba(self._get_X(X))\n",
    "    \n",
    "    def _get_X(self, X):\n",
    "        return X[:, crt_col_idx].reshape((-1, 1))\n",
    "    \n",
    "linear_clf = LogisticRegression()"
   ]
  },
  {
   "cell_type": "code",
   "execution_count": 9,
   "metadata": {
    "ExecuteTime": {
     "end_time": "2020-08-31T22:05:15.560385Z",
     "start_time": "2020-08-31T22:05:15.548341Z"
    }
   },
   "outputs": [],
   "source": [
    "ml_clf = make_pipeline(\n",
    "    FeatureAgglomeration(affinity=\"euclidean\", linkage=\"ward\"),\n",
    "    StackingEstimator(\n",
    "        estimator=SGDClassifier(\n",
    "            alpha=0.0, \n",
    "            eta0=0.1, \n",
    "            fit_intercept=False, \n",
    "            l1_ratio=0.5, \n",
    "            learning_rate=\"constant\", \n",
    "            loss=\"perceptron\", \n",
    "            penalty=\"elasticnet\", \n",
    "            power_t=0.5\n",
    "        )\n",
    "    ),\n",
    "    StackingEstimator(\n",
    "        estimator=MLPClassifier(alpha=0.001, learning_rate_init=1.0)\n",
    "    ),\n",
    "    ExtraTreesClassifier(\n",
    "        bootstrap=False, \n",
    "        criterion=\"entropy\", \n",
    "        max_features=0.3, \n",
    "        min_samples_leaf=7, \n",
    "        min_samples_split=13, \n",
    "        n_estimators=100\n",
    "    )\n",
    ")"
   ]
  },
  {
   "cell_type": "markdown",
   "metadata": {},
   "source": [
    "### Cross validation and training performance"
   ]
  },
  {
   "cell_type": "code",
   "execution_count": 10,
   "metadata": {
    "ExecuteTime": {
     "end_time": "2020-08-31T22:05:16.717712Z",
     "start_time": "2020-08-31T22:05:15.562475Z"
    }
   },
   "outputs": [],
   "source": [
    "CLASSIFIERS = [('base', base_clf), ('linear', linear_clf), ('ml', ml_clf)]\n",
    "COMPARISONS = [('linear', 'base'), ('ml', 'base'), ('ml', 'linear')]\n",
    "METRICS = ['accuracy', 'AUC', 'F1']\n",
    "\n",
    "kf = KFold()\n",
    "\n",
    "def get_xval_scores(X=X, y=y):\n",
    "    xval_scores = {key: [] for key, _ in CLASSIFIERS}\n",
    "    for i, (train_idx, test_idx) in enumerate(kf.split(X, y)):\n",
    "        X_train, X_test, y_train, y_test = \\\n",
    "            X[train_idx], X[test_idx], y[train_idx], y[test_idx]\n",
    "        for key, clf in CLASSIFIERS:\n",
    "            metrics = compute_metrics(clf.fit(X_train, y_train), X_test, y_test)\n",
    "            xval_scores[key].append(metrics)\n",
    "    return average_xval_scores(xval_scores)\n",
    "\n",
    "def compute_metrics(clf, X, y):\n",
    "    output = clf.predict_proba(X)[:,1] # probability positive class\n",
    "    y_pred = output > .5\n",
    "    return {\n",
    "        'accuracy': accuracy_score(y, y_pred),\n",
    "        'AUC': roc_auc_score(y, output),\n",
    "        'F1': f1_score(y, y_pred, average='binary')\n",
    "    }\n",
    "\n",
    "def average_xval_scores(xval_scores):\n",
    "    def average_metric_score(clf_key, metric):\n",
    "        scores = [record[metric] for record in xval_scores[clf_key]]\n",
    "        return sum(scores) / len(scores)\n",
    "        \n",
    "    return {\n",
    "        key: {\n",
    "            metric: average_metric_score(key, metric) \n",
    "            for metric in METRICS\n",
    "        }\n",
    "        for key, _ in CLASSIFIERS\n",
    "    }\n",
    "\n",
    "xval_scores = get_xval_scores()"
   ]
  },
  {
   "cell_type": "code",
   "execution_count": 11,
   "metadata": {
    "ExecuteTime": {
     "end_time": "2020-08-31T22:05:17.006521Z",
     "start_time": "2020-08-31T22:05:16.719817Z"
    }
   },
   "outputs": [
    {
     "name": "stdout",
     "output_type": "stream",
     "text": [
      "Classifier: base\n",
      "\tMetric: accuracy\n",
      "\t\t Cross validation score: 0.4803\n",
      "\t\t Training score: 0.5104\n",
      "\tMetric: AUC\n",
      "\t\t Cross validation score: 0.5000\n",
      "\t\t Training score: 0.5000\n",
      "\tMetric: F1\n",
      "\t\t Cross validation score: 0.1192\n",
      "\t\t Training score: 0.0000\n",
      "Classifier: linear\n",
      "\tMetric: accuracy\n",
      "\t\t Cross validation score: 0.5935\n",
      "\t\t Training score: 0.5955\n",
      "\tMetric: AUC\n",
      "\t\t Cross validation score: 0.6280\n",
      "\t\t Training score: 0.6255\n",
      "\tMetric: F1\n",
      "\t\t Cross validation score: 0.5577\n",
      "\t\t Training score: 0.6137\n",
      "Classifier: ml\n",
      "\tMetric: accuracy\n",
      "\t\t Cross validation score: 0.6162\n",
      "\t\t Training score: 0.6295\n",
      "\tMetric: AUC\n",
      "\t\t Cross validation score: 0.6518\n",
      "\t\t Training score: 0.7176\n",
      "\tMetric: F1\n",
      "\t\t Cross validation score: 0.5763\n",
      "\t\t Training score: 0.5702\n"
     ]
    }
   ],
   "source": [
    "train_scores = {\n",
    "    key: compute_metrics(clf.fit(X, y), X, y)\n",
    "    for key, clf in CLASSIFIERS\n",
    "}\n",
    "\n",
    "for key, _ in CLASSIFIERS:\n",
    "    print('Classifier: {}'.format(key))\n",
    "    for metric in METRICS:\n",
    "        print('\\tMetric: {}'.format(metric))\n",
    "        print('\\t'*2, 'Cross validation score: {:.4f}'.format(xval_scores[key][metric]))\n",
    "        print('\\t'*2, 'Training score: {:.4f}'.format(train_scores[key][metric]))"
   ]
  },
  {
   "cell_type": "markdown",
   "metadata": {},
   "source": [
    "### ROC curve on training data"
   ]
  },
  {
   "cell_type": "code",
   "execution_count": 12,
   "metadata": {
    "ExecuteTime": {
     "end_time": "2020-08-31T22:05:18.562917Z",
     "start_time": "2020-08-31T22:05:17.008652Z"
    }
   },
   "outputs": [
    {
     "data": {
      "image/png": "[encoded data removed]",
      "text/plain": [
       "<Figure size 432x288 with 1 Axes>"
      ]
     },
     "metadata": {},
     "output_type": "display_data"
    }
   ],
   "source": [
    "for key, clf in CLASSIFIERS:\n",
    "    fpr, tpr, _ = roc_curve(y, clf.predict_proba(X)[:,1])\n",
    "    sns.lineplot(fpr, tpr, label=key)\n",
    "plt.xlabel('False positive rate')\n",
    "plt.ylabel('True positive rate')\n",
    "if PLOTS_DIR is not None:\n",
    "    plt.savefig(os.path.join(PLOTS_DIR, 'CRT_ROC.png'), bbox_inches='tight')"
   ]
  },
  {
   "cell_type": "markdown",
   "metadata": {},
   "source": [
    "### Bootstrapped percent improvement"
   ]
  },
  {
   "cell_type": "code",
   "execution_count": 13,
   "metadata": {
    "ExecuteTime": {
     "end_time": "2020-08-31T22:25:42.046929Z",
     "start_time": "2020-08-31T22:05:18.564941Z"
    }
   },
   "outputs": [
    {
     "name": "stdout",
     "output_type": "stream",
     "text": [
      "\n",
      "0% complete\n",
      "Time remaining: 0:19:00.998859\n",
      "\n",
      "10% complete\n",
      "Time remaining: 0:18:20.496065\n",
      "\n",
      "20% complete\n",
      "Time remaining: 0:16:44.812963\n",
      "\n",
      "30% complete\n",
      "Time remaining: 0:14:38.230400\n",
      "\n",
      "40% complete\n",
      "Time remaining: 0:12:22.249516\n",
      "\n",
      "50% complete\n",
      "Time remaining: 0:10:15.803559\n",
      "\n",
      "60% complete\n",
      "Time remaining: 0:08:10.843376\n",
      "\n",
      "70% complete\n",
      "Time remaining: 0:06:06.325585\n",
      "\n",
      "80% complete\n",
      "Time remaining: 0:04:03.663603\n",
      "\n",
      "90% complete\n",
      "Time remaining: 0:02:01.128781\n",
      "\n",
      "Comparison: ('linear', 'base')\n",
      "\t Metric: accuracy\n",
      "\t\t Average percent improvement: 0.1908\n",
      "\t\t p=0.001\n",
      "\t\t 95% CI: 0.0754 0.3418\n",
      "\t Metric: AUC\n",
      "\t\t Average percent improvement: 0.2523\n",
      "\t\t p=0.000\n",
      "\t\t 95% CI: 0.1632 0.3405\n",
      "\t Metric: F1\n",
      "\t\t Average percent improvement: 1.2590\n",
      "\t\t p=0.128\n",
      "\t\t 95% CI: -0.1042 inf\n",
      "\n",
      "Comparison: ('ml', 'base')\n",
      "\t Metric: accuracy\n",
      "\t\t Average percent improvement: 0.2912\n",
      "\t\t p=0.000\n",
      "\t\t 95% CI: 0.1451 0.4700\n",
      "\t Metric: AUC\n",
      "\t\t Average percent improvement: 0.4196\n",
      "\t\t p=0.000\n",
      "\t\t 95% CI: 0.3313 0.5046\n",
      "\t Metric: F1\n",
      "\t\t Average percent improvement: 1.4738\n",
      "\t\t p=0.107\n",
      "\t\t 95% CI: -0.0543 inf\n",
      "\n",
      "Comparison: ('ml', 'linear')\n",
      "\t Metric: accuracy\n",
      "\t\t Average percent improvement: 0.0847\n",
      "\t\t p=0.023\n",
      "\t\t 95% CI: 0.0029 0.1720\n",
      "\t Metric: AUC\n",
      "\t\t Average percent improvement: 0.1344\n",
      "\t\t p=0.000\n",
      "\t\t 95% CI: 0.0664 0.2123\n",
      "\t Metric: F1\n",
      "\t\t Average percent improvement: 0.1288\n",
      "\t\t p=0.078\n",
      "\t\t 95% CI: -0.0288 0.3659\n"
     ]
    }
   ],
   "source": [
    "BOOTSTRAP_SAMPLES = 1000\n",
    "start_time = datetime.now()\n",
    "\n",
    "def compute_improvement():\n",
    "    scores = get_xval_scores(*resample(X, y))\n",
    "    return {\n",
    "        comp: {\n",
    "            metric: scores[comp[0]][metric]/scores[comp[1]][metric] - 1\n",
    "            for metric in METRICS\n",
    "        }\n",
    "        for comp in COMPARISONS\n",
    "    }\n",
    "\n",
    "def print_improvement(improvement):\n",
    "    for comp in COMPARISONS:\n",
    "        print('\\nComparison: {}'.format(comp))\n",
    "        for metric in METRICS:\n",
    "            a = np.array(improvement[comp][metric])\n",
    "            print('\\t'*1, 'Metric: {}'.format(metric))\n",
    "            print('\\t'*2, 'Average percent improvement: {:.4f}'.format(a[a < np.inf].mean()))\n",
    "            print('\\t'*2, 'p={:.3f}'.format((a<=0).mean()))\n",
    "            print('\\t'*2, '95% CI: {:.4f} {:.4f}'.format(np.quantile(a, .025), np.quantile(a, .975)))\n",
    "\n",
    "improvement = {\n",
    "    comp: {metric: [] for metric in METRICS}\n",
    "    for comp in COMPARISONS\n",
    "}\n",
    "for i in range(BOOTSTRAP_SAMPLES):\n",
    "    sample_improvement = compute_improvement()\n",
    "    [\n",
    "        improvement[comp][metric].append(\n",
    "            sample_improvement[comp][metric]\n",
    "        )\n",
    "        for comp in COMPARISONS for metric in METRICS\n",
    "    ]\n",
    "    if i % 100 == 0:\n",
    "        print('\\n{:.0f}% complete'.format(100*(i+1)/BOOTSTRAP_SAMPLES))\n",
    "        run_time = datetime.now() - start_time\n",
    "        remaining_time = run_time / ((i+1)/BOOTSTRAP_SAMPLES) - run_time\n",
    "        print('Time remaining: {}'.format(str(remaining_time)))\n",
    "        # print_improvement(improvement)\n",
    "\n",
    "print_improvement(improvement)"
   ]
  },
  {
   "cell_type": "code",
   "execution_count": 14,
   "metadata": {
    "ExecuteTime": {
     "end_time": "2020-08-31T22:25:45.699503Z",
     "start_time": "2020-08-31T22:25:42.050430Z"
    }
   },
   "outputs": [
    {
     "data": {
      "image/png": "[encoded data removed]",
      "text/plain": [
       "<Figure size 648x648 with 9 Axes>"
      ]
     },
     "metadata": {},
     "output_type": "display_data"
    }
   ],
   "source": [
    "data = {'Sample': [], 'Comparison': [], 'Metric': [], 'PctImprovement': []}\n",
    "for comp in COMPARISONS:\n",
    "    for metric in METRICS:\n",
    "        for i, pct_improve in enumerate(improvement[comp][metric]):\n",
    "            data['Sample'].append(i)\n",
    "            data['Comparison'].append(comp)\n",
    "            data['Metric'].append(metric)\n",
    "            data['PctImprovement'].append(pct_improve)\n",
    "            \n",
    "improvement_df = pd.DataFrame(data)\n",
    "improvement_df.replace([np.inf, -np.inf], np.nan, inplace=True)\n",
    "improvement_df.dropna(inplace=True)\n",
    "g = sns.FacetGrid(improvement_df, row='Comparison', col='Metric', margin_titles=True, sharey=False, sharex='col')\n",
    "g.map(sns.distplot, 'PctImprovement').set_xlabels('Percent improvement')\n",
    "if PLOTS_DIR is not None:\n",
    "    plt.savefig(os.path.join(PLOTS_DIR, 'CRT_comparison.png'), bbox_inches='tight')"
   ]
  },
  {
   "cell_type": "markdown",
   "metadata": {},
   "source": [
    "## Correlation explanations"
   ]
  },
  {
   "cell_type": "code",
   "execution_count": 15,
   "metadata": {
    "ExecuteTime": {
     "end_time": "2020-08-31T22:25:45.716113Z",
     "start_time": "2020-08-31T22:25:45.701231Z"
    }
   },
   "outputs": [],
   "source": [
    "df = pd.read_csv('CRT_nodummies.csv')\n",
    "X = df.drop(columns=y_var)\n",
    "X_cols = [col for col in df.columns if col != y_var]\n",
    "\n",
    "CRT_cols = ['Jerry', 'batball', 'lilypads', 'water', 'widgets', 'trucks', '3flips', 'giftwrap']\n",
    "CRT = df[CRT_cols].sum(axis=1)"
   ]
  },
  {
   "cell_type": "code",
   "execution_count": 16,
   "metadata": {
    "ExecuteTime": {
     "end_time": "2020-08-31T22:25:45.729710Z",
     "start_time": "2020-08-31T22:25:45.718605Z"
    }
   },
   "outputs": [],
   "source": [
    "def model(X, predict_proba=False):\n",
    "    X = pd.DataFrame(X, columns=X_cols)\n",
    "    X = pd.get_dummies(X, columns=['school', 'Sex', 'RACE', 'Prestige'])\n",
    "    X['CRT'] = X[['batball', 'widgets', 'lilypads']].sum(axis=1)\n",
    "    X = X.drop(columns='Sex_Female')\n",
    "    if predict_proba:\n",
    "        return ml_clf.predict_proba(X)[:,1]\n",
    "    return ml_clf.predict(X)\n",
    "\n",
    "model_proba = partial(model, predict_proba=True)"
   ]
  },
  {
   "cell_type": "markdown",
   "metadata": {},
   "source": [
    "### Feature importances for all variables"
   ]
  },
  {
   "cell_type": "code",
   "execution_count": 17,
   "metadata": {
    "ExecuteTime": {
     "end_time": "2020-08-31T22:34:27.790980Z",
     "start_time": "2020-08-31T22:25:45.739111Z"
    }
   },
   "outputs": [
    {
     "data": {
      "text/html": [
       "<div>\n",
       "<style scoped>\n",
       "    .dataframe tbody tr th:only-of-type {\n",
       "        vertical-align: middle;\n",
       "    }\n",
       "\n",
       "    .dataframe tbody tr th {\n",
       "        vertical-align: top;\n",
       "    }\n",
       "\n",
       "    .dataframe thead th {\n",
       "        text-align: right;\n",
       "    }\n",
       "</style>\n",
       "<table border=\"1\" class=\"dataframe\">\n",
       "  <thead>\n",
       "    <tr style=\"text-align: right;\">\n",
       "      <th></th>\n",
       "      <th>CRT</th>\n",
       "      <th>ACT</th>\n",
       "      <th>IQ</th>\n",
       "      <th>Male</th>\n",
       "      <th>Feature</th>\n",
       "    </tr>\n",
       "  </thead>\n",
       "  <tbody>\n",
       "    <tr>\n",
       "      <th>0</th>\n",
       "      <td>0.060043</td>\n",
       "      <td>0.024841</td>\n",
       "      <td>0.062252</td>\n",
       "      <td>0.004400</td>\n",
       "      <td>IQ</td>\n",
       "    </tr>\n",
       "    <tr>\n",
       "      <th>1</th>\n",
       "      <td>0.054158</td>\n",
       "      <td>0.055102</td>\n",
       "      <td>0.048459</td>\n",
       "      <td>0.002573</td>\n",
       "      <td>ACT</td>\n",
       "    </tr>\n",
       "    <tr>\n",
       "      <th>2</th>\n",
       "      <td>0.016783</td>\n",
       "      <td>0.007415</td>\n",
       "      <td>0.016460</td>\n",
       "      <td>0.000862</td>\n",
       "      <td>lilypads</td>\n",
       "    </tr>\n",
       "    <tr>\n",
       "      <th>3</th>\n",
       "      <td>0.010779</td>\n",
       "      <td>0.003391</td>\n",
       "      <td>0.009446</td>\n",
       "      <td>0.000869</td>\n",
       "      <td>widgets</td>\n",
       "    </tr>\n",
       "    <tr>\n",
       "      <th>4</th>\n",
       "      <td>0.010685</td>\n",
       "      <td>0.004308</td>\n",
       "      <td>0.011103</td>\n",
       "      <td>0.000377</td>\n",
       "      <td>batball</td>\n",
       "    </tr>\n",
       "    <tr>\n",
       "      <th>5</th>\n",
       "      <td>0.007282</td>\n",
       "      <td>0.002754</td>\n",
       "      <td>0.007142</td>\n",
       "      <td>0.000523</td>\n",
       "      <td>giftwrap</td>\n",
       "    </tr>\n",
       "    <tr>\n",
       "      <th>6</th>\n",
       "      <td>0.007274</td>\n",
       "      <td>0.002469</td>\n",
       "      <td>0.006729</td>\n",
       "      <td>0.000514</td>\n",
       "      <td>Jerry</td>\n",
       "    </tr>\n",
       "    <tr>\n",
       "      <th>7</th>\n",
       "      <td>0.006798</td>\n",
       "      <td>0.002914</td>\n",
       "      <td>0.007083</td>\n",
       "      <td>0.001233</td>\n",
       "      <td>water</td>\n",
       "    </tr>\n",
       "    <tr>\n",
       "      <th>8</th>\n",
       "      <td>0.004954</td>\n",
       "      <td>0.001839</td>\n",
       "      <td>0.004964</td>\n",
       "      <td>0.000412</td>\n",
       "      <td>trucks</td>\n",
       "    </tr>\n",
       "    <tr>\n",
       "      <th>9</th>\n",
       "      <td>0.004429</td>\n",
       "      <td>0.001623</td>\n",
       "      <td>0.004703</td>\n",
       "      <td>0.000603</td>\n",
       "      <td>3flips</td>\n",
       "    </tr>\n",
       "    <tr>\n",
       "      <th>10</th>\n",
       "      <td>0.003430</td>\n",
       "      <td>0.000408</td>\n",
       "      <td>0.003834</td>\n",
       "      <td>0.003998</td>\n",
       "      <td>Sex</td>\n",
       "    </tr>\n",
       "    <tr>\n",
       "      <th>11</th>\n",
       "      <td>0.000000</td>\n",
       "      <td>0.000000</td>\n",
       "      <td>0.000000</td>\n",
       "      <td>0.000000</td>\n",
       "      <td>school</td>\n",
       "    </tr>\n",
       "    <tr>\n",
       "      <th>12</th>\n",
       "      <td>0.000000</td>\n",
       "      <td>0.000000</td>\n",
       "      <td>0.000000</td>\n",
       "      <td>0.000000</td>\n",
       "      <td>RACE</td>\n",
       "    </tr>\n",
       "    <tr>\n",
       "      <th>13</th>\n",
       "      <td>0.000000</td>\n",
       "      <td>0.000000</td>\n",
       "      <td>0.000000</td>\n",
       "      <td>0.000000</td>\n",
       "      <td>Prestige</td>\n",
       "    </tr>\n",
       "  </tbody>\n",
       "</table>\n",
       "</div>"
      ],
      "text/plain": [
       "         CRT       ACT        IQ      Male   Feature\n",
       "0   0.060043  0.024841  0.062252  0.004400        IQ\n",
       "1   0.054158  0.055102  0.048459  0.002573       ACT\n",
       "2   0.016783  0.007415  0.016460  0.000862  lilypads\n",
       "3   0.010779  0.003391  0.009446  0.000869   widgets\n",
       "4   0.010685  0.004308  0.011103  0.000377   batball\n",
       "5   0.007282  0.002754  0.007142  0.000523  giftwrap\n",
       "6   0.007274  0.002469  0.006729  0.000514     Jerry\n",
       "7   0.006798  0.002914  0.007083  0.001233     water\n",
       "8   0.004954  0.001839  0.004964  0.000412    trucks\n",
       "9   0.004429  0.001623  0.004703  0.000603    3flips\n",
       "10  0.003430  0.000408  0.003834  0.003998       Sex\n",
       "11  0.000000  0.000000  0.000000  0.000000    school\n",
       "12  0.000000  0.000000  0.000000  0.000000      RACE\n",
       "13  0.000000  0.000000  0.000000  0.000000  Prestige"
      ]
     },
     "execution_count": 17,
     "metadata": {},
     "output_type": "execute_result"
    }
   ],
   "source": [
    "N_SAMPLES = 100\n",
    "\n",
    "def compute_gshap(var):\n",
    "    g = lambda output: np.corrcoef(output, var)[0][1]\n",
    "    explainer = gshap.KernelExplainer(model_proba, X, g)\n",
    "    gshap_values = explainer.gshap_values(X, nsamples=N_SAMPLES)\n",
    "    return gshap_values * np.corrcoef(y, var)[0][1]\n",
    "\n",
    "variables = (('CRT', CRT), ('ACT', df['ACT']), ('IQ', df['IQ']), ('Male', df['Sex']=='Male'))\n",
    "corr_gshap_values = {key: compute_gshap(var) for key, var in variables}\n",
    "corr_gshap_values['Feature'] = X_cols\n",
    "corr_gshap_df = pd.DataFrame(corr_gshap_values).sort_values('CRT', ascending=False).reset_index(drop=True)\n",
    "corr_gshap_df"
   ]
  },
  {
   "cell_type": "code",
   "execution_count": 18,
   "metadata": {
    "ExecuteTime": {
     "end_time": "2020-08-31T22:34:29.639833Z",
     "start_time": "2020-08-31T22:34:27.797673Z"
    }
   },
   "outputs": [
    {
     "data": {
      "image/png": "[encoded data removed]",
      "text/plain": [
       "<Figure size 864x216 with 4 Axes>"
      ]
     },
     "metadata": {},
     "output_type": "display_data"
    }
   ],
   "source": [
    "tmp_df = pd.melt(corr_gshap_df, id_vars='Feature', var_name='Correlated feature')\n",
    "g = sns.FacetGrid(tmp_df, col='Correlated feature', sharex=False)\n",
    "g.map(sns.barplot, 'value', 'Feature').set_axis_labels('Explained correlation', 'Explaining feature')\n",
    "if PLOTS_DIR is not None:\n",
    "    plt.savefig(os.path.join(PLOTS_DIR, 'CRT_corr_gshap.png'), bbox_inches='tight')\n",
    "plt.show()"
   ]
  },
  {
   "cell_type": "markdown",
   "metadata": {},
   "source": [
    "### Total correlation explained"
   ]
  },
  {
   "cell_type": "code",
   "execution_count": 19,
   "metadata": {
    "ExecuteTime": {
     "end_time": "2020-08-31T22:34:29.652611Z",
     "start_time": "2020-08-31T22:34:29.643792Z"
    }
   },
   "outputs": [
    {
     "data": {
      "text/plain": [
       "CRT     0.186616\n",
       "ACT     0.107062\n",
       "IQ      0.182174\n",
       "Male    0.016366\n",
       "dtype: float64"
      ]
     },
     "execution_count": 19,
     "metadata": {},
     "output_type": "execute_result"
    }
   ],
   "source": [
    "corr_gshap_df.drop(columns='Feature').sum()"
   ]
  },
  {
   "cell_type": "markdown",
   "metadata": {},
   "source": [
    "### Correlation explained by CRT items"
   ]
  },
  {
   "cell_type": "code",
   "execution_count": 20,
   "metadata": {
    "ExecuteTime": {
     "end_time": "2020-08-31T22:34:29.678212Z",
     "start_time": "2020-08-31T22:34:29.654808Z"
    }
   },
   "outputs": [
    {
     "data": {
      "text/plain": [
       "CRT     0.068985\n",
       "ACT     0.026712\n",
       "IQ      0.067629\n",
       "Male    0.005394\n",
       "dtype: float64"
      ]
     },
     "execution_count": 20,
     "metadata": {},
     "output_type": "execute_result"
    }
   ],
   "source": [
    "corr_gshap_df[corr_gshap_df['Feature'].isin(CRT_cols)].drop(columns='Feature').sum()"
   ]
  },
  {
   "cell_type": "markdown",
   "metadata": {},
   "source": [
    "## Performance explanations"
   ]
  },
  {
   "cell_type": "code",
   "execution_count": 21,
   "metadata": {
    "ExecuteTime": {
     "end_time": "2020-08-31T22:41:06.217870Z",
     "start_time": "2020-08-31T22:34:29.681605Z"
    }
   },
   "outputs": [
    {
     "name": "stdout",
     "output_type": "stream",
     "text": [
      "\n",
      "Metric: accuracy\n",
      "Training performance: 0.6446\n",
      "Performance on shuffled training data: 0.5005\n",
      "Improvement over shuffled data: 0.1441\n",
      "Sum of G-SHAP values: 0.1481\n",
      "\n",
      "Metric: AUC\n",
      "Training performance: 0.7074\n",
      "Performance on shuffled training data: 0.5004\n",
      "Improvement over shuffled data: 0.2071\n",
      "Sum of G-SHAP values: 0.2004\n",
      "\n",
      "Metric: F1\n",
      "Training performance: 0.5895\n",
      "Performance on shuffled training data: 0.4255\n",
      "Improvement over shuffled data: 0.1640\n",
      "Sum of G-SHAP values: 0.1698\n"
     ]
    }
   ],
   "source": [
    "N_SAMPLES = 100\n",
    "COMPARISON_SAMPLES = 100\n",
    "    \n",
    "perf_gshap_values = {}\n",
    "metrics = (\n",
    "    ('accuracy', lambda output: accuracy_score(y, output > .5)),\n",
    "    ('AUC', lambda output: roc_auc_score(y, output)),\n",
    "    ('F1', lambda output: f1_score(y, output > .5))\n",
    ")\n",
    "\n",
    "for key, g in metrics:\n",
    "    explainer = gshap.KernelExplainer(model_proba, X, g)\n",
    "    gshap_values = explainer.gshap_values(X, nsamples=N_SAMPLES)\n",
    "    g_comparison, g_background = explainer.compare(X, bootstrap_samples=COMPARISON_SAMPLES)\n",
    "    print('\\nMetric: {}'.format(key))\n",
    "    print('Training performance: {:.4f}'.format(g_comparison))\n",
    "    print('Performance on shuffled training data: {:.4f}'.format(g_background))\n",
    "    print('Improvement over shuffled data: {:.4f}'.format(g_comparison-g_background))\n",
    "    print('Sum of G-SHAP values: {:.4f}'.format(gshap_values.sum()))\n",
    "    perf_gshap_values[key] = gshap_values"
   ]
  },
  {
   "cell_type": "code",
   "execution_count": 22,
   "metadata": {
    "ExecuteTime": {
     "end_time": "2020-08-31T22:41:06.241976Z",
     "start_time": "2020-08-31T22:41:06.220815Z"
    }
   },
   "outputs": [
    {
     "data": {
      "text/html": [
       "<div>\n",
       "<style scoped>\n",
       "    .dataframe tbody tr th:only-of-type {\n",
       "        vertical-align: middle;\n",
       "    }\n",
       "\n",
       "    .dataframe tbody tr th {\n",
       "        vertical-align: top;\n",
       "    }\n",
       "\n",
       "    .dataframe thead th {\n",
       "        text-align: right;\n",
       "    }\n",
       "</style>\n",
       "<table border=\"1\" class=\"dataframe\">\n",
       "  <thead>\n",
       "    <tr style=\"text-align: right;\">\n",
       "      <th></th>\n",
       "      <th>accuracy</th>\n",
       "      <th>AUC</th>\n",
       "      <th>F1</th>\n",
       "      <th>Feature</th>\n",
       "    </tr>\n",
       "  </thead>\n",
       "  <tbody>\n",
       "    <tr>\n",
       "      <th>0</th>\n",
       "      <td>0.062306</td>\n",
       "      <td>0.092660</td>\n",
       "      <td>0.075343</td>\n",
       "      <td>ACT</td>\n",
       "    </tr>\n",
       "    <tr>\n",
       "      <th>1</th>\n",
       "      <td>0.034234</td>\n",
       "      <td>0.045223</td>\n",
       "      <td>0.038210</td>\n",
       "      <td>IQ</td>\n",
       "    </tr>\n",
       "    <tr>\n",
       "      <th>2</th>\n",
       "      <td>0.012042</td>\n",
       "      <td>0.013284</td>\n",
       "      <td>0.012393</td>\n",
       "      <td>lilypads</td>\n",
       "    </tr>\n",
       "    <tr>\n",
       "      <th>3</th>\n",
       "      <td>0.011096</td>\n",
       "      <td>0.011927</td>\n",
       "      <td>0.015593</td>\n",
       "      <td>batball</td>\n",
       "    </tr>\n",
       "    <tr>\n",
       "      <th>4</th>\n",
       "      <td>0.006522</td>\n",
       "      <td>0.007889</td>\n",
       "      <td>0.008112</td>\n",
       "      <td>giftwrap</td>\n",
       "    </tr>\n",
       "    <tr>\n",
       "      <th>5</th>\n",
       "      <td>0.004688</td>\n",
       "      <td>0.005146</td>\n",
       "      <td>0.003722</td>\n",
       "      <td>water</td>\n",
       "    </tr>\n",
       "    <tr>\n",
       "      <th>6</th>\n",
       "      <td>0.004386</td>\n",
       "      <td>0.007394</td>\n",
       "      <td>0.005069</td>\n",
       "      <td>Jerry</td>\n",
       "    </tr>\n",
       "    <tr>\n",
       "      <th>7</th>\n",
       "      <td>0.003837</td>\n",
       "      <td>0.003106</td>\n",
       "      <td>0.004540</td>\n",
       "      <td>3flips</td>\n",
       "    </tr>\n",
       "    <tr>\n",
       "      <th>8</th>\n",
       "      <td>0.003781</td>\n",
       "      <td>0.004652</td>\n",
       "      <td>0.002717</td>\n",
       "      <td>Sex</td>\n",
       "    </tr>\n",
       "    <tr>\n",
       "      <th>9</th>\n",
       "      <td>0.003157</td>\n",
       "      <td>0.004235</td>\n",
       "      <td>0.005267</td>\n",
       "      <td>trucks</td>\n",
       "    </tr>\n",
       "    <tr>\n",
       "      <th>10</th>\n",
       "      <td>0.002023</td>\n",
       "      <td>0.004862</td>\n",
       "      <td>-0.001137</td>\n",
       "      <td>widgets</td>\n",
       "    </tr>\n",
       "    <tr>\n",
       "      <th>11</th>\n",
       "      <td>0.000000</td>\n",
       "      <td>0.000000</td>\n",
       "      <td>0.000000</td>\n",
       "      <td>school</td>\n",
       "    </tr>\n",
       "    <tr>\n",
       "      <th>12</th>\n",
       "      <td>0.000000</td>\n",
       "      <td>0.000000</td>\n",
       "      <td>0.000000</td>\n",
       "      <td>RACE</td>\n",
       "    </tr>\n",
       "    <tr>\n",
       "      <th>13</th>\n",
       "      <td>0.000000</td>\n",
       "      <td>0.000000</td>\n",
       "      <td>0.000000</td>\n",
       "      <td>Prestige</td>\n",
       "    </tr>\n",
       "  </tbody>\n",
       "</table>\n",
       "</div>"
      ],
      "text/plain": [
       "    accuracy       AUC        F1   Feature\n",
       "0   0.062306  0.092660  0.075343       ACT\n",
       "1   0.034234  0.045223  0.038210        IQ\n",
       "2   0.012042  0.013284  0.012393  lilypads\n",
       "3   0.011096  0.011927  0.015593   batball\n",
       "4   0.006522  0.007889  0.008112  giftwrap\n",
       "5   0.004688  0.005146  0.003722     water\n",
       "6   0.004386  0.007394  0.005069     Jerry\n",
       "7   0.003837  0.003106  0.004540    3flips\n",
       "8   0.003781  0.004652  0.002717       Sex\n",
       "9   0.003157  0.004235  0.005267    trucks\n",
       "10  0.002023  0.004862 -0.001137   widgets\n",
       "11  0.000000  0.000000  0.000000    school\n",
       "12  0.000000  0.000000  0.000000      RACE\n",
       "13  0.000000  0.000000  0.000000  Prestige"
      ]
     },
     "execution_count": 22,
     "metadata": {},
     "output_type": "execute_result"
    }
   ],
   "source": [
    "perf_gshap_values['Feature'] = X_cols\n",
    "perf_gshap_df = pd.DataFrame(perf_gshap_values).sort_values('accuracy', ascending=False).reset_index(drop=True)\n",
    "perf_gshap_df"
   ]
  },
  {
   "cell_type": "code",
   "execution_count": 23,
   "metadata": {
    "ExecuteTime": {
     "end_time": "2020-08-31T22:41:06.277882Z",
     "start_time": "2020-08-31T22:41:06.245186Z"
    }
   },
   "outputs": [
    {
     "data": {
      "text/plain": [
       "accuracy    0.047750\n",
       "AUC         0.057843\n",
       "F1          0.053560\n",
       "dtype: float64"
      ]
     },
     "execution_count": 23,
     "metadata": {},
     "output_type": "execute_result"
    }
   ],
   "source": [
    "perf_gshap_df[perf_gshap_df['Feature'].isin(CRT_cols)].drop(columns='Feature').sum()"
   ]
  },
  {
   "cell_type": "code",
   "execution_count": 24,
   "metadata": {
    "ExecuteTime": {
     "end_time": "2020-08-31T22:41:07.819253Z",
     "start_time": "2020-08-31T22:41:06.280678Z"
    }
   },
   "outputs": [
    {
     "data": {
      "image/png": "[encoded data removed]",
      "text/plain": [
       "<Figure size 648x216 with 3 Axes>"
      ]
     },
     "metadata": {},
     "output_type": "display_data"
    }
   ],
   "source": [
    "tmp_df = pd.melt(perf_gshap_df, id_vars='Feature', var_name='Metric')\n",
    "g = sns.FacetGrid(tmp_df, col='Metric', sharex=False)\n",
    "g.map(sns.barplot, 'value', 'Feature').set_axis_labels('Explained performance', 'Explaining feature')\n",
    "if PLOTS_DIR is not None:\n",
    "    plt.savefig(os.path.join(PLOTS_DIR, 'CRT_perf_gshap.png'), bbox_inches='tight')\n",
    "plt.show()"
   ]
  },
  {
   "cell_type": "code",
   "execution_count": null,
   "metadata": {},
   "outputs": [],
   "source": []
  }
 ],
 "metadata": {
  "kernelspec": {
   "display_name": "crt",
   "language": "python",
   "name": "crt"
  },
  "language_info": {
   "codemirror_mode": {
    "name": "ipython",
    "version": 3
   },
   "file_extension": ".py",
   "mimetype": "text/x-python",
   "name": "python",
   "nbconvert_exporter": "python",
   "pygments_lexer": "ipython3",
   "version": "3.6.8"
  },
  "toc": {
   "base_numbering": 1,
   "nav_menu": {},
   "number_sections": true,
   "sideBar": true,
   "skip_h1_title": false,
   "title_cell": "Table of Contents",
   "title_sidebar": "Contents",
   "toc_cell": false,
   "toc_position": {},
   "toc_section_display": true,
   "toc_window_display": false
  },
  "varInspector": {
   "cols": {
    "lenName": 16,
    "lenType": 16,
    "lenVar": 40
   },
   "kernels_config": {
    "python": {
     "delete_cmd_postfix": "",
     "delete_cmd_prefix": "del ",
     "library": "var_list.py",
     "varRefreshCmd": "print(var_dic_list())"
    },
    "r": {
     "delete_cmd_postfix": ") ",
     "delete_cmd_prefix": "rm(",
     "library": "var_list.r",
     "varRefreshCmd": "cat(var_dic_list()) "
    }
   },
   "types_to_exclude": [
    "module",
    "function",
    "builtin_function_or_method",
    "instance",
    "_Feature"
   ],
   "window_display": false
  }
 },
 "nbformat": 4,
 "nbformat_minor": 4
}
