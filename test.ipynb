{
 "cells": [
  {
   "cell_type": "code",
   "execution_count": 2,
   "metadata": {
    "ExecuteTime": {
     "end_time": "2020-08-27T17:15:43.437474Z",
     "start_time": "2020-08-27T17:15:43.434146Z"
    }
   },
   "outputs": [],
   "source": [
    "import pandas as pd\n",
    "import xgboost as xgb"
   ]
  },
  {
   "cell_type": "code",
   "execution_count": 18,
   "metadata": {
    "ExecuteTime": {
     "end_time": "2020-08-27T17:29:48.748755Z",
     "start_time": "2020-08-27T17:29:48.730980Z"
    }
   },
   "outputs": [],
   "source": [
    "df = pd.read_csv('CRT_clean.csv')\n",
    "y_var = '3.4K v 3.8K(2)'\n",
    "X = df.drop(columns=y_var).to_numpy()\n",
    "y = df['3.4K v 3.8K(2)'].to_numpy()"
   ]
  },
  {
   "cell_type": "code",
   "execution_count": 22,
   "metadata": {
    "ExecuteTime": {
     "end_time": "2020-08-27T17:30:26.121728Z",
     "start_time": "2020-08-27T17:30:25.823587Z"
    }
   },
   "outputs": [],
   "source": [
    "from sklearn.metrics import accuracy_score\n",
    "from sklearn.model_selection import KFold\n",
    "\n",
    "clf = xgb.XGBClassifier()\n",
    "kf = KFold()\n",
    "\n",
    "xval_scores = []\n",
    "for train_idx, test_idx in kf.split(X, y):\n",
    "    X_train, X_test, y_train, y_test = \\\n",
    "        X[train_idx], X[test_idx], y[train_idx], y[test_idx]\n",
    "#     y_train = y_train.reshape(-1, 1)\n",
    "#     dtrain = xgb.DMatrix(X_train, label=y_train)\n",
    "#     dtest = xgb.DMatrix(X_test, y_test)\n",
    "    clf.fit(X_train, y_train)\n",
    "    xval_scores.append(accuracy_score(y_test, clf.predict(X_test)))"
   ]
  },
  {
   "cell_type": "code",
   "execution_count": 23,
   "metadata": {
    "ExecuteTime": {
     "end_time": "2020-08-27T17:30:38.683913Z",
     "start_time": "2020-08-27T17:30:38.678850Z"
    }
   },
   "outputs": [
    {
     "data": {
      "text/plain": [
       "0.5499910152740342"
      ]
     },
     "execution_count": 23,
     "metadata": {},
     "output_type": "execute_result"
    }
   ],
   "source": [
    "sum(xval_scores) / len(xval_scores)"
   ]
  },
  {
   "cell_type": "code",
   "execution_count": null,
   "metadata": {},
   "outputs": [],
   "source": []
  }
 ],
 "metadata": {
  "kernelspec": {
   "display_name": "crt",
   "language": "python",
   "name": "crt"
  },
  "language_info": {
   "codemirror_mode": {
    "name": "ipython",
    "version": 3
   },
   "file_extension": ".py",
   "mimetype": "text/x-python",
   "name": "python",
   "nbconvert_exporter": "python",
   "pygments_lexer": "ipython3",
   "version": "3.6.8"
  },
  "toc": {
   "base_numbering": 1,
   "nav_menu": {},
   "number_sections": true,
   "sideBar": true,
   "skip_h1_title": false,
   "title_cell": "Table of Contents",
   "title_sidebar": "Contents",
   "toc_cell": false,
   "toc_position": {},
   "toc_section_display": true,
   "toc_window_display": false
  },
  "varInspector": {
   "cols": {
    "lenName": 16,
    "lenType": 16,
    "lenVar": 40
   },
   "kernels_config": {
    "python": {
     "delete_cmd_postfix": "",
     "delete_cmd_prefix": "del ",
     "library": "var_list.py",
     "varRefreshCmd": "print(var_dic_list())"
    },
    "r": {
     "delete_cmd_postfix": ") ",
     "delete_cmd_prefix": "rm(",
     "library": "var_list.r",
     "varRefreshCmd": "cat(var_dic_list()) "
    }
   },
   "types_to_exclude": [
    "module",
    "function",
    "builtin_function_or_method",
    "instance",
    "_Feature"
   ],
   "window_display": false
  }
 },
 "nbformat": 4,
 "nbformat_minor": 4
}
