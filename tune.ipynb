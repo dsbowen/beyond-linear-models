{
 "cells": [
  {
   "cell_type": "code",
   "execution_count": 1,
   "metadata": {
    "ExecuteTime": {
     "end_time": "2020-08-26T12:00:04.356911Z",
     "start_time": "2020-08-26T11:59:59.320837Z"
    }
   },
   "outputs": [],
   "source": [
    "import warnings\n",
    "\n",
    "def warn(*args, **kwargs):\n",
    "    pass\n",
    "warnings.warn = warn\n",
    "\n",
    "import pandas as pd\n",
    "from autosklearn.experimental.askl2 import AutoSklearn2Classifier as AutoClassifier\n",
    "from tpot import TPOTClassifier\n",
    "\n",
    "import pickle"
   ]
  },
  {
   "cell_type": "code",
   "execution_count": 2,
   "metadata": {
    "ExecuteTime": {
     "end_time": "2020-08-26T12:00:04.532192Z",
     "start_time": "2020-08-26T12:00:04.464022Z"
    }
   },
   "outputs": [
    {
     "data": {
      "text/html": [
       "<div>\n",
       "<style scoped>\n",
       "    .dataframe tbody tr th:only-of-type {\n",
       "        vertical-align: middle;\n",
       "    }\n",
       "\n",
       "    .dataframe tbody tr th {\n",
       "        vertical-align: top;\n",
       "    }\n",
       "\n",
       "    .dataframe thead th {\n",
       "        text-align: right;\n",
       "    }\n",
       "</style>\n",
       "<table border=\"1\" class=\"dataframe\">\n",
       "  <thead>\n",
       "    <tr style=\"text-align: right;\">\n",
       "      <th></th>\n",
       "      <th>CRT</th>\n",
       "      <th>ACT</th>\n",
       "      <th>batball</th>\n",
       "      <th>3flips</th>\n",
       "      <th>widgets</th>\n",
       "      <th>trucks</th>\n",
       "      <th>lilypads</th>\n",
       "      <th>water</th>\n",
       "      <th>giftwrap</th>\n",
       "      <th>Jerry</th>\n",
       "      <th>...</th>\n",
       "      <th>school_Toledo</th>\n",
       "      <th>school_UM (dearborn)</th>\n",
       "      <th>Sex_Male</th>\n",
       "      <th>RACE_Asian</th>\n",
       "      <th>RACE_Black</th>\n",
       "      <th>RACE_Latino</th>\n",
       "      <th>RACE_Other</th>\n",
       "      <th>RACE_White</th>\n",
       "      <th>Prestige_low</th>\n",
       "      <th>Prestige_middle</th>\n",
       "    </tr>\n",
       "  </thead>\n",
       "  <tbody>\n",
       "    <tr>\n",
       "      <th>0</th>\n",
       "      <td>0.0</td>\n",
       "      <td>26.0</td>\n",
       "      <td>0</td>\n",
       "      <td>0.0</td>\n",
       "      <td>0.0</td>\n",
       "      <td>0.0</td>\n",
       "      <td>0.0</td>\n",
       "      <td>0.0</td>\n",
       "      <td>1.0</td>\n",
       "      <td>0.0</td>\n",
       "      <td>...</td>\n",
       "      <td>0</td>\n",
       "      <td>1</td>\n",
       "      <td>0</td>\n",
       "      <td>0</td>\n",
       "      <td>0</td>\n",
       "      <td>0</td>\n",
       "      <td>0</td>\n",
       "      <td>1</td>\n",
       "      <td>1</td>\n",
       "      <td>0</td>\n",
       "    </tr>\n",
       "    <tr>\n",
       "      <th>1</th>\n",
       "      <td>2.0</td>\n",
       "      <td>23.0</td>\n",
       "      <td>1</td>\n",
       "      <td>0.0</td>\n",
       "      <td>0.0</td>\n",
       "      <td>0.0</td>\n",
       "      <td>1.0</td>\n",
       "      <td>0.0</td>\n",
       "      <td>1.0</td>\n",
       "      <td>1.0</td>\n",
       "      <td>...</td>\n",
       "      <td>0</td>\n",
       "      <td>1</td>\n",
       "      <td>0</td>\n",
       "      <td>0</td>\n",
       "      <td>1</td>\n",
       "      <td>0</td>\n",
       "      <td>0</td>\n",
       "      <td>0</td>\n",
       "      <td>1</td>\n",
       "      <td>0</td>\n",
       "    </tr>\n",
       "    <tr>\n",
       "      <th>2</th>\n",
       "      <td>1.0</td>\n",
       "      <td>27.0</td>\n",
       "      <td>0</td>\n",
       "      <td>0.0</td>\n",
       "      <td>0.0</td>\n",
       "      <td>1.0</td>\n",
       "      <td>1.0</td>\n",
       "      <td>1.0</td>\n",
       "      <td>1.0</td>\n",
       "      <td>0.0</td>\n",
       "      <td>...</td>\n",
       "      <td>0</td>\n",
       "      <td>1</td>\n",
       "      <td>1</td>\n",
       "      <td>0</td>\n",
       "      <td>0</td>\n",
       "      <td>0</td>\n",
       "      <td>0</td>\n",
       "      <td>1</td>\n",
       "      <td>1</td>\n",
       "      <td>0</td>\n",
       "    </tr>\n",
       "    <tr>\n",
       "      <th>3</th>\n",
       "      <td>0.0</td>\n",
       "      <td>22.0</td>\n",
       "      <td>0</td>\n",
       "      <td>0.0</td>\n",
       "      <td>0.0</td>\n",
       "      <td>0.0</td>\n",
       "      <td>0.0</td>\n",
       "      <td>0.0</td>\n",
       "      <td>0.0</td>\n",
       "      <td>0.0</td>\n",
       "      <td>...</td>\n",
       "      <td>0</td>\n",
       "      <td>1</td>\n",
       "      <td>1</td>\n",
       "      <td>0</td>\n",
       "      <td>1</td>\n",
       "      <td>0</td>\n",
       "      <td>0</td>\n",
       "      <td>0</td>\n",
       "      <td>1</td>\n",
       "      <td>0</td>\n",
       "    </tr>\n",
       "    <tr>\n",
       "      <th>4</th>\n",
       "      <td>3.0</td>\n",
       "      <td>31.0</td>\n",
       "      <td>1</td>\n",
       "      <td>1.0</td>\n",
       "      <td>1.0</td>\n",
       "      <td>1.0</td>\n",
       "      <td>1.0</td>\n",
       "      <td>1.0</td>\n",
       "      <td>1.0</td>\n",
       "      <td>1.0</td>\n",
       "      <td>...</td>\n",
       "      <td>0</td>\n",
       "      <td>1</td>\n",
       "      <td>1</td>\n",
       "      <td>0</td>\n",
       "      <td>0</td>\n",
       "      <td>0</td>\n",
       "      <td>1</td>\n",
       "      <td>0</td>\n",
       "      <td>1</td>\n",
       "      <td>0</td>\n",
       "    </tr>\n",
       "  </tbody>\n",
       "</table>\n",
       "<p>5 rows × 25 columns</p>\n",
       "</div>"
      ],
      "text/plain": [
       "   CRT   ACT  batball  3flips  widgets  trucks  lilypads  water  giftwrap  \\\n",
       "0  0.0  26.0        0     0.0      0.0     0.0       0.0    0.0       1.0   \n",
       "1  2.0  23.0        1     0.0      0.0     0.0       1.0    0.0       1.0   \n",
       "2  1.0  27.0        0     0.0      0.0     1.0       1.0    1.0       1.0   \n",
       "3  0.0  22.0        0     0.0      0.0     0.0       0.0    0.0       0.0   \n",
       "4  3.0  31.0        1     1.0      1.0     1.0       1.0    1.0       1.0   \n",
       "\n",
       "   Jerry  ...  school_Toledo  school_UM (dearborn)  Sex_Male  RACE_Asian  \\\n",
       "0    0.0  ...              0                     1         0           0   \n",
       "1    1.0  ...              0                     1         0           0   \n",
       "2    0.0  ...              0                     1         1           0   \n",
       "3    0.0  ...              0                     1         1           0   \n",
       "4    1.0  ...              0                     1         1           0   \n",
       "\n",
       "   RACE_Black  RACE_Latino  RACE_Other  RACE_White  Prestige_low  \\\n",
       "0           0            0           0           1             1   \n",
       "1           1            0           0           0             1   \n",
       "2           0            0           0           1             1   \n",
       "3           1            0           0           0             1   \n",
       "4           0            0           1           0             1   \n",
       "\n",
       "   Prestige_middle  \n",
       "0                0  \n",
       "1                0  \n",
       "2                0  \n",
       "3                0  \n",
       "4                0  \n",
       "\n",
       "[5 rows x 25 columns]"
      ]
     },
     "execution_count": 2,
     "metadata": {},
     "output_type": "execute_result"
    }
   ],
   "source": [
    "df = pd.read_csv('CRT_clean.csv')\n",
    "df.head()"
   ]
  },
  {
   "cell_type": "code",
   "execution_count": 5,
   "metadata": {
    "ExecuteTime": {
     "end_time": "2020-08-26T12:00:41.813741Z",
     "start_time": "2020-08-26T12:00:41.805551Z"
    }
   },
   "outputs": [],
   "source": [
    "y_var = '3.4K v 3.8K(2)'\n",
    "X = df.drop(columns=y_var).to_numpy()\n",
    "y = df[y_var].to_numpy()"
   ]
  },
  {
   "cell_type": "code",
   "execution_count": 13,
   "metadata": {
    "ExecuteTime": {
     "end_time": "2020-08-26T12:06:39.261270Z",
     "start_time": "2020-08-26T12:04:40.896764Z"
    }
   },
   "outputs": [
    {
     "name": "stdout",
     "output_type": "stream",
     "text": [
      "Using no backup selector\n",
      "auto-sklearn results:\n",
      "  Dataset name: ea4d9bd6560e6c8a08315c95c41b2768\n",
      "  Metric: accuracy\n",
      "  Best validation score: 0.682089\n",
      "  Number of target algorithm runs: 20\n",
      "  Number of successful target algorithm runs: 16\n",
      "  Number of crashed target algorithm runs: 0\n",
      "  Number of target algorithms that exceeded the time limit: 4\n",
      "  Number of target algorithms that exceeded the memory limit: 0\n",
      "\n"
     ]
    }
   ],
   "source": [
    "askl_clf = AutoClassifier(time_left_for_this_task=120).fit(X, y)\n",
    "pickle.dump(askl_clf.show_models(), open('askl_clf.p', 'wb'))\n",
    "print(askl_clf.sprint_statistics())"
   ]
  },
  {
   "cell_type": "code",
   "execution_count": 17,
   "metadata": {
    "ExecuteTime": {
     "end_time": "2020-08-26T12:07:21.144797Z",
     "start_time": "2020-08-26T12:07:12.610414Z"
    }
   },
   "outputs": [
    {
     "data": {
      "text/plain": [
       "0.5708715184186882"
      ]
     },
     "execution_count": 17,
     "metadata": {},
     "output_type": "execute_result"
    }
   ],
   "source": [
    "from sklearn.model_selection import KFold\n",
    "\n",
    "kf = KFold(5)\n",
    "xval = []\n",
    "for train_idx, test_idx in kf.split(X, y):\n",
    "    X_train, X_test, y_train, y_test = \\\n",
    "        X[train_idx], X[test_idx], y[train_idx], y[test_idx]\n",
    "    askl_clf.refit(X_train, y_train)\n",
    "    xval.append(askl_clf.score(X_test, y_test))\n",
    "sum(xval) / len(xval)"
   ]
  },
  {
   "cell_type": "code",
   "execution_count": 68,
   "metadata": {
    "ExecuteTime": {
     "end_time": "2020-08-26T13:15:31.527456Z",
     "start_time": "2020-08-26T12:45:30.566987Z"
    }
   },
   "outputs": [],
   "source": [
    "clf = TPOTClassifier(max_time_mins=30)\n",
    "clf.fit(X, y)\n",
    "clf.export('tpot_pipeline.py')"
   ]
  },
  {
   "cell_type": "code",
   "execution_count": 62,
   "metadata": {
    "ExecuteTime": {
     "end_time": "2020-08-26T12:44:28.255278Z",
     "start_time": "2020-08-26T12:44:28.056534Z"
    }
   },
   "outputs": [
    {
     "name": "stderr",
     "output_type": "stream",
     "text": [
      "/home/dsbowen/crt/venv/lib/python3.6/site-packages/sklearn/feature_selection/_univariate_selection.py:115: RuntimeWarning: invalid value encountered in true_divide\n",
      "  f = msb / msw\n",
      "/home/dsbowen/crt/venv/lib/python3.6/site-packages/sklearn/feature_selection/_univariate_selection.py:115: RuntimeWarning: invalid value encountered in true_divide\n",
      "  f = msb / msw\n"
     ]
    },
    {
     "data": {
      "text/plain": [
       "0.6275651392632524"
      ]
     },
     "execution_count": 62,
     "metadata": {},
     "output_type": "execute_result"
    }
   ],
   "source": [
    "from sklearn.model_selection import cross_validate\n",
    "\n",
    "from sklearn.feature_selection import SelectPercentile, f_classif\n",
    "from sklearn.model_selection import train_test_split\n",
    "from sklearn.naive_bayes import GaussianNB\n",
    "from sklearn.neighbors import KNeighborsClassifier\n",
    "from sklearn.pipeline import make_pipeline, make_union\n",
    "from tpot.builtins import StackingEstimator, ZeroCount\n",
    "\n",
    "pipeline_clf = make_pipeline(\n",
    "    SelectPercentile(score_func=f_classif, percentile=38),\n",
    "    StackingEstimator(estimator=KNeighborsClassifier(n_neighbors=15, p=2, weights=\"uniform\")),\n",
    "    ZeroCount(),\n",
    "    GaussianNB()\n",
    ")\n",
    "\n",
    "cross_validate(pipeline_clf, X, y, cv=5)['test_score'].mean()"
   ]
  },
  {
   "cell_type": "code",
   "execution_count": 67,
   "metadata": {
    "ExecuteTime": {
     "end_time": "2020-08-26T12:45:07.910231Z",
     "start_time": "2020-08-26T12:45:06.107012Z"
    }
   },
   "outputs": [
    {
     "data": {
      "text/plain": [
       "0.6086612758310872"
      ]
     },
     "execution_count": 67,
     "metadata": {},
     "output_type": "execute_result"
    }
   ],
   "source": [
    "from sklearn.ensemble import ExtraTreesClassifier\n",
    "from sklearn.feature_selection import RFE\n",
    "from sklearn.model_selection import train_test_split\n",
    "from sklearn.naive_bayes import GaussianNB\n",
    "from sklearn.pipeline import make_pipeline\n",
    "from tpot.builtins import OneHotEncoder\n",
    "\n",
    "pipeline_clf = make_pipeline(\n",
    "    OneHotEncoder(minimum_fraction=0.25, sparse=False, threshold=10),\n",
    "    RFE(estimator=ExtraTreesClassifier(criterion=\"gini\", max_features=0.1, n_estimators=100), step=0.45),\n",
    "    GaussianNB()\n",
    ")\n",
    "\n",
    "cross_validate(pipeline_clf, X, y, cv=5)['test_score'].mean()"
   ]
  },
  {
   "cell_type": "code",
   "execution_count": 100,
   "metadata": {
    "ExecuteTime": {
     "end_time": "2020-08-26T13:19:32.134171Z",
     "start_time": "2020-08-26T13:19:29.220653Z"
    }
   },
   "outputs": [
    {
     "data": {
      "text/plain": [
       "0.6389695210449927"
      ]
     },
     "execution_count": 100,
     "metadata": {},
     "output_type": "execute_result"
    }
   ],
   "source": [
    "from sklearn.cluster import FeatureAgglomeration\n",
    "from sklearn.ensemble import ExtraTreesClassifier\n",
    "from sklearn.linear_model import SGDClassifier\n",
    "from sklearn.model_selection import train_test_split\n",
    "from sklearn.neural_network import MLPClassifier\n",
    "from sklearn.pipeline import make_pipeline, make_union\n",
    "from tpot.builtins import StackingEstimator\n",
    "\n",
    "pipeline_clf = make_pipeline(\n",
    "    FeatureAgglomeration(affinity=\"euclidean\", linkage=\"ward\"),\n",
    "    StackingEstimator(estimator=SGDClassifier(alpha=0.0, eta0=0.1, fit_intercept=False, l1_ratio=0.5, learning_rate=\"constant\", loss=\"perceptron\", penalty=\"elasticnet\", power_t=0.5)),\n",
    "    StackingEstimator(estimator=MLPClassifier(alpha=0.001, learning_rate_init=1.0)),\n",
    "    ExtraTreesClassifier(bootstrap=False, criterion=\"entropy\", max_features=0.3, min_samples_leaf=7, min_samples_split=13, n_estimators=100)\n",
    ")\n",
    "\n",
    "cross_validate(pipeline_clf, X, y, cv=10)['test_score'].mean()"
   ]
  },
  {
   "cell_type": "code",
   "execution_count": 50,
   "metadata": {
    "ExecuteTime": {
     "end_time": "2020-08-26T12:25:45.207780Z",
     "start_time": "2020-08-26T12:25:44.864323Z"
    }
   },
   "outputs": [
    {
     "data": {
      "text/plain": [
       "0.6029390420899855"
      ]
     },
     "execution_count": 50,
     "metadata": {},
     "output_type": "execute_result"
    }
   ],
   "source": [
    "from sklearn.model_selection import KFold\n",
    "\n",
    "kf = KFold(10)\n",
    "xval = []\n",
    "for train_idx, test_idx in kf.split(X, y):\n",
    "    X_train, X_test, y_train, y_test = \\\n",
    "        X[train_idx], X[test_idx], y[train_idx], y[test_idx]\n",
    "    pipeline_clf.fit(X_train, y_train)\n",
    "    xval.append(pipeline_clf.score(X_test, y_test))\n",
    "sum(xval) / len(xval)"
   ]
  },
  {
   "cell_type": "code",
   "execution_count": null,
   "metadata": {
    "ExecuteTime": {
     "end_time": "2020-08-26T11:51:49.353820Z",
     "start_time": "2020-08-26T11:51:48.483864Z"
    }
   },
   "outputs": [],
   "source": [
    "from mlbox.preprocessing import *\n",
    "from mlbox.optimisation import *\n",
    "from mlbox.prediction import *\n",
    "\n",
    "paths = ['CRT_clean.csv']\n",
    "target_name = '3.4K v 3.8K(2)'\n",
    "data = Reader().clean('CRT_clean.csv')\n",
    "data = Drift_thresholder().fit_transform(data)\n",
    "Optimiser.evaluate(None, data)"
   ]
  },
  {
   "cell_type": "code",
   "execution_count": null,
   "metadata": {},
   "outputs": [],
   "source": []
  }
 ],
 "metadata": {
  "kernelspec": {
   "display_name": "crt",
   "language": "python",
   "name": "crt"
  },
  "language_info": {
   "codemirror_mode": {
    "name": "ipython",
    "version": 3
   },
   "file_extension": ".py",
   "mimetype": "text/x-python",
   "name": "python",
   "nbconvert_exporter": "python",
   "pygments_lexer": "ipython3",
   "version": "3.6.8"
  },
  "toc": {
   "base_numbering": 1,
   "nav_menu": {},
   "number_sections": true,
   "sideBar": true,
   "skip_h1_title": false,
   "title_cell": "Table of Contents",
   "title_sidebar": "Contents",
   "toc_cell": false,
   "toc_position": {},
   "toc_section_display": true,
   "toc_window_display": false
  },
  "varInspector": {
   "cols": {
    "lenName": 16,
    "lenType": 16,
    "lenVar": 40
   },
   "kernels_config": {
    "python": {
     "delete_cmd_postfix": "",
     "delete_cmd_prefix": "del ",
     "library": "var_list.py",
     "varRefreshCmd": "print(var_dic_list())"
    },
    "r": {
     "delete_cmd_postfix": ") ",
     "delete_cmd_prefix": "rm(",
     "library": "var_list.r",
     "varRefreshCmd": "cat(var_dic_list()) "
    }
   },
   "types_to_exclude": [
    "module",
    "function",
    "builtin_function_or_method",
    "instance",
    "_Feature"
   ],
   "window_display": false
  }
 },
 "nbformat": 4,
 "nbformat_minor": 4
}
